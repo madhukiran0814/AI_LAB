{
 "cells": [
  {
   "cell_type": "markdown",
   "id": "b865d8ae",
   "metadata": {},
   "source": [
    "# Write a python program to implement water jug problem."
   ]
  },
  {
   "cell_type": "markdown",
   "id": "67c7ce42",
   "metadata": {},
   "source": [
    "## Description:"
   ]
  },
  {
   "cell_type": "markdown",
   "id": "86e2207a",
   "metadata": {},
   "source": [
    "You are on the side of the river. You are given a m liter jug and a n liter jug where 0 < m < n. Both the jugs are initially empty. The jugs don’t have markings to allow measuring smaller quantities. You have to use the jugs to measure d liters of water where d < n. Determine the minimum no of operations to be performed to obtain d liters of water in one of jug. "
   ]
  },
  {
   "cell_type": "markdown",
   "id": "2a6dfde7",
   "metadata": {},
   "source": [
    "The operations you can perform are: "
   ]
  },
  {
   "cell_type": "markdown",
   "id": "6e82a66c",
   "metadata": {},
   "source": [
    "1.Empty a Jug "
   ]
  },
  {
   "cell_type": "markdown",
   "id": "98996c53",
   "metadata": {},
   "source": [
    "2.Fill a Jug"
   ]
  },
  {
   "cell_type": "markdown",
   "id": "eaa1c710",
   "metadata": {},
   "source": [
    "3.Pour water from one jug to the other until one of the jugs is either empty or full."
   ]
  },
  {
   "cell_type": "markdown",
   "id": "410b9fa8",
   "metadata": {},
   "source": [
    "There are several ways of solving this problem including BFS and DP(Dynamic Programming)."
   ]
  },
  {
   "cell_type": "markdown",
   "id": "e10a3c2f",
   "metadata": {},
   "source": [
    "## Method 1"
   ]
  },
  {
   "cell_type": "code",
   "execution_count": 21,
   "id": "d43095c2",
   "metadata": {},
   "outputs": [
    {
     "name": "stdout",
     "output_type": "stream",
     "text": [
      "JAR 1 Capacity Should be Greater than JAR2\n",
      "Enter the capacity of JAR 1 :5\n",
      "Enter the capacity of JAR 2 :3\n",
      "Enter value for LEFT OUt  in JAR 1 : 4\n",
      "(0,0)\n",
      "(0,3)\n",
      "(3,0)\n",
      "(3,3)\n",
      "(5,1)\n",
      "(1,0)\n",
      "(1,3)\n",
      "(4,0)\n"
     ]
    }
   ],
   "source": [
    "print(\"JAR 1 Capacity Should be Greater than JAR2\")\n",
    "\n",
    "while(True):\n",
    "    try:\n",
    "        xc=int(input(\"Enter the capacity of JAR 1 :\"))\n",
    "        yc=int(input(\"Enter the capacity of JAR 2 :\"))    \n",
    "        target=int(input(\"Enter value for LEFT OUt  in JAR 1 : \"))\n",
    "        break\n",
    "    except:\n",
    "        print(\"values must me integer\")\n",
    "    \n",
    "x=y=0\n",
    "if(xc <= yc ):\n",
    "    print(\"JAR 1 Capacity Should be Greater than JAR2\")\n",
    "else:\n",
    "    print(f'({x},{y})')\n",
    "    while(True):\n",
    "        if(x==target):\n",
    "            break\n",
    "        else:\n",
    "            if(y==0):\n",
    "                y=yc\n",
    "                print(f'({x},{y})')\n",
    "            if(x < xc and y>0 ):\n",
    "                temp=xc-x\n",
    "                if(y>=temp):\n",
    "                    y-=temp\n",
    "                    x+=temp\n",
    "                    print(f'({x},{y})')\n",
    "                    if(x==target):break\n",
    "                else:\n",
    "                    x+=y\n",
    "                    y=0\n",
    "                    print(f'({x},{y})')\n",
    "            if(x==xc):\n",
    "                x=0"
   ]
  },
  {
   "cell_type": "markdown",
   "id": "fcddc2ce",
   "metadata": {},
   "source": [
    "## Method 2"
   ]
  },
  {
   "cell_type": "code",
   "execution_count": 43,
   "id": "09f64623",
   "metadata": {},
   "outputs": [
    {
     "name": "stdout",
     "output_type": "stream",
     "text": [
      "water jug problem\n",
      "enter X:0\n",
      "enter Y:0\n",
      "enter the rule number2\n",
      "x= 0\n",
      "y= 3\n",
      "enter the rule number7\n",
      "x= 3\n",
      "y= 0\n",
      "enter the rule number2\n",
      "x= 3\n",
      "y= 3\n",
      "enter the rule number5\n",
      "x= 4\n",
      "y= 2\n",
      "enter the rule number3\n",
      "x= 0\n",
      "y= 2\n",
      "enter the rule number7\n",
      "x= 2\n",
      "y= 0\n",
      "the result is goal state\n"
     ]
    }
   ],
   "source": [
    "print(\"water jug problem\")\n",
    "x=int(input(\"enter X:\"))\n",
    "y=int(input(\"enter Y:\"))\n",
    "while True:\n",
    "    rn=int(input(\"enter the rule number\"))\n",
    "    if rn==1:\n",
    "        if x<4:x=4\n",
    "    if rn==2:\n",
    "        if y<3:y=3\n",
    "    if rn==3:\n",
    "        if x>0:x=0\n",
    "    if rn==4:\n",
    "        if y>0:y=0\n",
    "    if rn==5:\n",
    "        if x+y>=4 and y>0:x,y=4,y-(4-x)\n",
    "    if rn==6:\n",
    "        if x+y>=3 and x>0:x,y=x-(3-y),3\n",
    "    if rn==7:\n",
    "        if x+y<=4 and y>0:x,y=x+y,0\n",
    "    if rn==8:\n",
    "        if x+y<=3 and x>0:x,y=0,x+y\n",
    "    print(\"x=\",x)\n",
    "    print(\"y=\",y)\n",
    "    if x==2:\n",
    "        print(\"the result is goal state\")\n",
    "        break\n"
   ]
  },
  {
   "cell_type": "code",
   "execution_count": null,
   "id": "8449b36e",
   "metadata": {},
   "outputs": [],
   "source": []
  },
  {
   "cell_type": "markdown",
   "id": "3b5e7be8",
   "metadata": {},
   "source": [
    "# Write a python program to implement Tic-Tac-Toe game."
   ]
  },
  {
   "cell_type": "markdown",
   "id": "394be243",
   "metadata": {},
   "source": [
    "## Description:"
   ]
  },
  {
   "cell_type": "markdown",
   "id": "eafbcb47",
   "metadata": {},
   "source": [
    "It is a two-player game. In this game, there is a board with 3×3 squares."
   ]
  },
  {
   "cell_type": "markdown",
   "id": "0c829381",
   "metadata": {},
   "source": [
    "In this game a player can choose between two symbols with his opponent, the usual games use “X” and “O”. If the first player chooses “X”, then the second player must play with “O” and vice versa."
   ]
  },
  {
   "cell_type": "markdown",
   "id": "e46f23be",
   "metadata": {},
   "source": [
    "A player marks one of the 3×3 squares with his symbol and he aims to create a straight line horizontally or vertically or diagonally with two intensions:"
   ]
  },
  {
   "cell_type": "markdown",
   "id": "bfe3533f",
   "metadata": {},
   "source": [
    "1.Create a straight line before your opponent to win the game. "
   ]
  },
  {
   "cell_type": "markdown",
   "id": "0a725e14",
   "metadata": {},
   "source": [
    "2.Prevent his opponent from creating a straight line first."
   ]
  },
  {
   "cell_type": "markdown",
   "id": "d262bd44",
   "metadata": {},
   "source": [
    "If no one can logically create a straight line with its symbol, the game ends in a tie. So there are only three possible outcomes: one player wins, his opponent (human or computer) wins, or there is a tie."
   ]
  },
  {
   "cell_type": "markdown",
   "id": "15462e0d",
   "metadata": {},
   "source": [
    "## Method 1"
   ]
  },
  {
   "cell_type": "code",
   "execution_count": 46,
   "id": "c5db42c2",
   "metadata": {},
   "outputs": [
    {
     "name": "stdout",
     "output_type": "stream",
     "text": [
      "tic tac toe game\n",
      "\n",
      "|  |  |  |\n",
      "|  |  |  |\n",
      "|  |  |  |\n",
      "which mode do you want to play \n",
      " 1.com vs player \n",
      " 2.player vs player1\n",
      "|  |  |  |\n",
      "|  |  |  |\n",
      "|  |  |  |\n",
      "your turn player1\n",
      "enter your move(1-9):5\n",
      "|  |  |  |\n",
      "|  | x |  |\n",
      "|  |  |  |\n",
      "computer turn\n",
      "8\n",
      "|  |  |  |\n",
      "|  | x |  |\n",
      "|  | o |  |\n",
      "your turn player1\n",
      "enter your move(1-9):6\n",
      "|  |  |  |\n",
      "|  | x | x |\n",
      "|  | o |  |\n",
      "computer turn\n",
      "6\n",
      "the place was taken\n",
      "\n",
      "computer turn\n",
      "9\n",
      "|  |  |  |\n",
      "|  | x | x |\n",
      "|  | o | o |\n",
      "your turn player1\n",
      "enter your move(1-9):4\n",
      "|  |  |  |\n",
      "| x | x | x |\n",
      "|  | o | o |\n",
      "player(x)win..congrats\n"
     ]
    },
    {
     "ename": "SystemExit",
     "evalue": "",
     "output_type": "error",
     "traceback": [
      "An exception has occurred, use %tb to see the full traceback.\n",
      "\u001b[1;31mSystemExit\u001b[0m\n"
     ]
    },
    {
     "name": "stderr",
     "output_type": "stream",
     "text": [
      "C:\\Users\\91996\\AppData\\Roaming\\Python\\Python37\\site-packages\\IPython\\core\\interactiveshell.py:3532: UserWarning: To exit: use 'exit', 'quit', or Ctrl-D.\n",
      "  warn(\"To exit: use 'exit', 'quit', or Ctrl-D.\", stacklevel=1)\n"
     ]
    }
   ],
   "source": [
    "import random,sys,time\n",
    "n=[j for j in range(0,10)]\n",
    "board=[\"\"for i in range(9)]\n",
    "print(\"tic tac toe game\")\n",
    "print()\n",
    "def print_board():\n",
    "    r1=\"| {} | {} | {} |\".format(board[0],board[1],board[2])\n",
    "    r2=\"| {} | {} | {} |\".format(board[3],board[4],board[5])\n",
    "    r3=\"| {} | {} | {} |\".format(board[6],board[7],board[8])\n",
    "    print(r1)\n",
    "    print(r2)\n",
    "    print(r3)\n",
    "print_board()\n",
    "def player_move(icon):\n",
    "    if icon==\"x\":\n",
    "        number=1\n",
    "    elif icon==\"o\":\n",
    "        number=2\n",
    "    print(\"your turn player{}\".format(number))\n",
    "    choice1=int(input(\"enter your move(1-9):\").strip())\n",
    "    if choice1>0 and choice1<9:\n",
    "        if board[choice1-1]==\"\":\n",
    "            board[choice1-1]=icon\n",
    "        else:\n",
    "            print()\n",
    "            print(\"the place was taken..\")\n",
    "            print()\n",
    "            player_move(icon)\n",
    "    else:\n",
    "        print(\"invalid move..please enter again\")\n",
    "        player_move(icon)\n",
    "            \n",
    "                \n",
    "def player_movec(icon):\n",
    "    n1=random.choice(n)\n",
    "    print(\"computer turn\")\n",
    "    time.sleep(0.5)\n",
    "    print(n1)\n",
    "    time.sleep(1)\n",
    "    if board[n1-1]==\"\":\n",
    "        board[n1-1]=icon\n",
    "    else:\n",
    "        print(\"the place was taken\")\n",
    "        print()\n",
    "        player_movec(icon)\n",
    "        \n",
    "def is_victory(icon):\n",
    "    if(board[0]==icon and board[1]==icon and board[2]==icon) or\\\n",
    "      (board[3]==icon and board[4]==icon and board[5]==icon) or\\\n",
    "      (board[6]==icon and board[7]==icon and board[8]==icon) or\\\n",
    "      (board[1]==icon and board[3]==icon and board[6]==icon) or\\\n",
    "      (board[2]==icon and board[4]==icon and board[7]==icon) or\\\n",
    "      (board[2]==icon and board[5]==icon and board[8]==icon) or\\\n",
    "      (board[0]==icon and board[4]==icon and board[8]==icon) or\\\n",
    "      (board[2]==icon and board[4]==icon and board[6]==icon):\n",
    "        return True\n",
    "    else:\n",
    "        return False\n",
    "def is_draw(icon):\n",
    "    if \"\" not in board:\n",
    "        return True\n",
    "    else:\n",
    "        return False \n",
    "while True:\n",
    "    ch=int(input(\"which mode do you want to play \\n 1.com vs player \\n 2.player vs player\"))\n",
    "    if ch==1:\n",
    "        while True:\n",
    "            print_board()\n",
    "            player_move(\"x\")\n",
    "            print_board()\n",
    "            if is_victory(\"x\"):\n",
    "                print(\"player(x)win..congrats\")\n",
    "                sys.exit()\n",
    "            elif is_draw(\"x\"):\n",
    "                print(\"its a draw \")\n",
    "                sys.exit()\n",
    "            player_movec(\"o\")\n",
    "            if is_victory(\"o\"):\n",
    "                print_board()\n",
    "                print(\"player(o)wins..congrats\")\n",
    "                sys.exit()\n",
    "            elif is_draw(\"o\"):\n",
    "                print(\"its a draw\")\n",
    "                sys.exit()\n",
    "    elif ch==2:\n",
    "        while True:\n",
    "            print_board()\n",
    "            player_move(\"x\")\n",
    "            print_board()\n",
    "            if is_victory(\"x\"):\n",
    "                print(\"player(x) wins... congratulation\")\n",
    "                sys.exit()\n",
    "            elif is_draw(x):\n",
    "                print(\"its a draw\")\n",
    "                sys.exit()\n",
    "            player_move(\"0\")\n",
    "            if is_victory(\"0\"):\n",
    "                print(\"player (0) wins...congratulation\")\n",
    "                sys.exit()\n",
    "    else:\n",
    "        print(\"enter correct choice\")\n"
   ]
  },
  {
   "cell_type": "markdown",
   "id": "7cdc741a",
   "metadata": {},
   "source": [
    "## Method 2"
   ]
  },
  {
   "cell_type": "code",
   "execution_count": 35,
   "id": "1a463ffa",
   "metadata": {},
   "outputs": [
    {
     "name": "stdout",
     "output_type": "stream",
     "text": [
      "     |     |     \n",
      "  1  |  X  |  O  \n",
      "_____|_____|_____\n",
      "     |     |     \n",
      "  X  |  O  |  6  \n",
      "_____|_____|_____\n",
      "     |     |     \n",
      "  O  |  O  |  X  \n",
      "_____|_____|_____\n",
      " !!!!!! Player Wins !!!!!!\n"
     ]
    }
   ],
   "source": [
    "from IPython.display import clear_output as clsScr\n",
    "import random\n",
    "import time\n",
    "myBox=[0,1,2,3,4,5,6,7,8,9]\n",
    "def box():\n",
    "    clsScr()\n",
    "    print(\"     |     |     \")\n",
    "    print(f\"  {myBox[1]}  |  {myBox[2]}  |  {myBox[3]}  \")\n",
    "    print(\"_____|_____|_____\")\n",
    "    print(\"     |     |     \")\n",
    "    print(f\"  {myBox[4]}  |  {myBox[5]}  |  {myBox[6]}  \")\n",
    "    print(\"_____|_____|_____\")\n",
    "    print(\"     |     |     \")\n",
    "    print(f\"  {myBox[7]}  |  {myBox[8]}  |  {myBox[9]}  \")\n",
    "    print(\"_____|_____|_____\")\n",
    "\n",
    "def userInput():\n",
    "    box()\n",
    "    placement=int(input('Enter Your Choice : '))\n",
    "    while(True):\n",
    "        if( 0 < placement < 10 ):\n",
    "            if( not myBox[placement] in ['X','O'] ):\n",
    "                myBox[placement]='O'\n",
    "                clsScr()\n",
    "                break\n",
    "            else:\n",
    "                placement=int(input(\"Invalid Choice - Box is Already Filled \\n Enter Your Choice : \"))\n",
    "        else:\n",
    "            placement=int(input(\"Choose Between the Available Values in  the Box : \"))\n",
    "    box()\n",
    "\n",
    "def tie():\n",
    "    tester=[ True if i in ['X','O'] else False for i in myBox[1:]]\n",
    "    if(all(tester)):\n",
    "        return True\n",
    "    return False\n",
    "\n",
    "def isGameOver():\n",
    "    box()\n",
    "    myGrid=[ myBox[i:i+3] for i in range(1,10,3) ]\n",
    "    for i in range(3):#Checking ROw by Row\n",
    "        if(myGrid[0][i] == myGrid[1][i] and myGrid[1][i] == myGrid[2][i]):\n",
    "            if(myGrid[0][i]=='X'):\n",
    "                print(\" !!!!!!  AI Wins !!!!!!\")\n",
    "            else:\n",
    "                print(\" !!!!!! Player Wins !!!!!!\")\n",
    "            return True\n",
    "    for i in range(3):#Checking Col by Col\n",
    "        if(myGrid[i][0] == myGrid[i][1] and myGrid[i][1] == myGrid[i][2]):\n",
    "            if(myGrid[i][0]=='X'):\n",
    "                print(\" !!!!!!  AI Wins !!!!!!\")\n",
    "            else:\n",
    "                print(\"Player Wins !!!!!!\")\n",
    "            return True\n",
    "        \n",
    "    #Checking Diagonally\n",
    "    if(myGrid[0][0] == myGrid[1][1] and myGrid[1][1] == myGrid[2][2]):\n",
    "            if(myGrid[0][0]=='X'):\n",
    "                print(\" !!!!!!  AI Wins !!!!!!\")\n",
    "            else:\n",
    "                print(\" !!!!!! Player Wins !!!!!!\")\n",
    "            return True\n",
    "    \n",
    "    if(myGrid[2][0] == myGrid[1][1] and myGrid[1][1] == myGrid[0][2]):\n",
    "            if(myGrid[0][2]=='X'):\n",
    "                print(\" !!!!!!  AI Wins !!!!!!\")\n",
    "            else:\n",
    "                print(\" !!!!!! Player Wins !!!!!!\")\n",
    "            return True\n",
    "    if(tie()):#Checking if the Box is Filled or Tie\n",
    "        box()\n",
    "        print(\"!!!! It's a Tie !!!!!!\")\n",
    "        return True\n",
    "    return False\n",
    "\n",
    "def checker(ch):\n",
    "    \n",
    "    numGrid= [ [1,2,3],[4,5,6],[7,8,9] ]\n",
    "    myGrid=[ myBox[i:i+3] for i in range(1,10,3)  ]\n",
    "    for i,row in enumerate(myGrid):\n",
    "            if(row.count(ch) == 2 ):\n",
    "                for j,val in enumerate(row):\n",
    "                    if( val not in ['O','X']):\n",
    "                        myBox[numGrid[i][j]]='X'\n",
    "                        box()\n",
    "                        return True\n",
    "\n",
    "    myCol=[ [myGrid[0][0],myGrid[1][0],myGrid[2][0] ] , [myGrid[0][1],myGrid[1][1],myGrid[2][1] ] ,[[myGrid[0][2],myGrid[1][2],myGrid[2][2] ]]  ]\n",
    "    for i,row in enumerate(myCol):\n",
    "        if(row.count(ch) == 2 ):\n",
    "            for j,val in enumerate(row):\n",
    "                if(val not in ['O','X']):\n",
    "                    myBox[numGrid[j][i]]='X'\n",
    "                    box()\n",
    "                    return True\n",
    "\n",
    "    diagonal1=[ myGrid[0][0],myGrid[1][1],myGrid[2][2]  ]\n",
    "\n",
    "    if( diagonal1.count(ch) ==2  ):\n",
    "        for i in range(3):\n",
    "            if( myGrid[i][i] not in ['X','O'] ):\n",
    "                if(i==0):\n",
    "                    myBox[1]='X'\n",
    "                elif(i==1):\n",
    "                    myBox[5]='X'\n",
    "                else:\n",
    "                    myBox[9]='X'\n",
    "                box()\n",
    "                return True\n",
    "\n",
    "    diagonal2=[ myGrid[2][0],myGrid[1][1],myGrid[0][2]  ]\n",
    "    if( diagonal2.count(ch) ==2  ):\n",
    "        for i in range(3):\n",
    "            if( myGrid[abs(i-2)][i] not in ['X','O'] ):\n",
    "                if(i==0):\n",
    "                    myBox[7]='X'\n",
    "                elif(i==1):\n",
    "                    myBox[5]='X'\n",
    "                else:\n",
    "                    myBox[3]='X'\n",
    "                box()\n",
    "                return True\n",
    "    \n",
    "    \n",
    "def botTurn():\n",
    "    numGrid= [ [1,2,3],[4,5,6],[7,8,9] ]\n",
    "    \n",
    "    myGrid=[ myBox[i:i+3] for i in range(1,10,3)  ]\n",
    "    \n",
    "    if( any([True if i in ['X','O'] else False for i in myBox]) ):\n",
    "        if(checker('X')):return\n",
    "        if(checker('O')):return\n",
    "    while(True):\n",
    "        i=random.randint(1,9)\n",
    "        if( myBox[i] not in ['X','O']):\n",
    "            myBox[i]='X'\n",
    "            break\n",
    "    box()\n",
    "def main():\n",
    "    kount=0\n",
    "    while(kount<10):\n",
    "        userInput()\n",
    "        if( isGameOver() ):\n",
    "            break\n",
    "        botTurn()\n",
    "        if( isGameOver() ):\n",
    "            break\n",
    "        kount+=2\n",
    "main()"
   ]
  },
  {
   "cell_type": "markdown",
   "id": "26e11995",
   "metadata": {},
   "source": [
    "# Write a python program to implement Travelling Salesman Problem using hill climbing algorithm."
   ]
  },
  {
   "cell_type": "markdown",
   "id": "4d0c878b",
   "metadata": {},
   "source": [
    "## Description:"
   ]
  },
  {
   "cell_type": "markdown",
   "id": "80d58e58",
   "metadata": {},
   "source": [
    "Travelling Salesman Problem (TSP): Given a set of cities and distance between every pair of cities, the problem is to find the shortest possible route that visits every city exactly once and returns to the starting point. It is a well-known algorithmic problem in the fields of computer science and operations research.\n",
    "There are obviously a lot of different routes to choose from, but finding the best one—the one that will require the least distance or cost is most complex task."
   ]
  },
  {
   "cell_type": "markdown",
   "id": "01039ab3",
   "metadata": {},
   "source": [
    "They are many approaches in order to solve ths TSP Problem.They are:"
   ]
  },
  {
   "cell_type": "markdown",
   "id": "03ac2408",
   "metadata": {},
   "source": [
    "1.The Brute-Force Approach"
   ]
  },
  {
   "cell_type": "markdown",
   "id": "7f7357a5",
   "metadata": {},
   "source": [
    "2.The Branch and Bound Method"
   ]
  },
  {
   "cell_type": "markdown",
   "id": "dd59bc23",
   "metadata": {},
   "source": [
    "3.The Nearest Neighbor Method (Hill Climbing Method)"
   ]
  },
  {
   "cell_type": "code",
   "execution_count": null,
   "id": "53140c6f",
   "metadata": {},
   "outputs": [],
   "source": [
    "import random\n",
    "def randomsoln(tsp):\n",
    "    cities=list(range(len(tsp)))\n",
    "    solution=[]\n",
    "    for i in range(len(tsp)):\n",
    "        randomcity=cities[random.randint(0,len(cities)-1)]\n",
    "        solution.append(randomcity)\n",
    "        cities.remove(randomcity)\n",
    "    return solution\n",
    "def routelen(tsp,soln):\n",
    "    routelength=0\n",
    "    for i in range(len(soln)):\n",
    "        routelength+=tsp[soln[i-1]][soln[i]]\n",
    "    return routelength\n",
    "def getneighbours(soln):\n",
    "    neighbours=[]\n",
    "    for i in range(len(soln)):\n",
    "        for j in range(i+1,len(soln)):\n",
    "            neighbour=soln.copy()\n",
    "            neighbour[i]=soln[j]\n",
    "            neighbour[j]=soln[i]\n",
    "            neighbours.append(neighbour)        \n",
    "        return neighbours\n",
    "def getbestneighbours(tsp,neighbours):\n",
    "    bestroutelen=routelen(tsp,neighbours[0])\n",
    "    bestneighbour=neighbours[0]\n",
    "    for neighbour in neighbours:\n",
    "        currentroutelen=routelen(tsp,neighbour)\n",
    "        if currentroutelen<bestroutelen:\n",
    "            bestroutelen=currentroutelen\n",
    "            bestneighbour=neighbour\n",
    "            \n",
    "        return bestneighbour,bestroutelen\n",
    "def Hillclimbing(tsp):\n",
    "    currentsoln=randomsoln(tsp)\n",
    "    currentroutelen=routelen(tsp,currentsoln)\n",
    "    neighbours=getneighbours(currentsoln)\n",
    "    bestneighbour,bestroutelen=getbestneighbours(tsp,neighbours)\n",
    "    while bestroutelen<currentroutelen:\n",
    "        currentroutelen=bestroutelen\n",
    "        currentsoln=bestneighbour\n",
    "        \n",
    "        neighbours=getneighbours(currentsoln)\n",
    "        bestneighbour,bestroutelen=getbestneighbours(tsp,neighbours)\n",
    "    return currentsoln,currentroutelen\n",
    "\n",
    "tsp=[[0,400,500,300],[400,0,300,500],[500,300,0,400],[300,500,400,0]]\n",
    "\n",
    "print(Hillclimbing(tsp))"
   ]
  },
  {
   "cell_type": "code",
   "execution_count": null,
   "id": "7ccaaa7d",
   "metadata": {},
   "outputs": [],
   "source": []
  },
  {
   "cell_type": "markdown",
   "id": "4bd53b21",
   "metadata": {},
   "source": [
    "# Write a python program to implement 8 puzzle problem."
   ]
  },
  {
   "cell_type": "markdown",
   "id": "6673b6ad",
   "metadata": {},
   "source": [
    "## Description:"
   ]
  },
  {
   "cell_type": "markdown",
   "id": "350bf96b",
   "metadata": {},
   "source": [
    "Given a 3×3 board with 8 tiles (every tile has one number from 1 to 8) and one empty space. The objective is to place the numbers on tiles to match the final configuration using the empty space. We can slide four adjacent (left, right, above, and below) tiles into the empty space. "
   ]
  },
  {
   "cell_type": "markdown",
   "id": "21a978de",
   "metadata": {},
   "source": [
    "Approches to find the solution to 8- puzzle problem"
   ]
  },
  {
   "cell_type": "markdown",
   "id": "74c2de7c",
   "metadata": {},
   "source": [
    "1. BFS (Brute-Force)\n",
    " \n",
    "We can perform a Breadth-first search on the state space tree. This always finds a goal state nearest to the root. But no matter what the initial state is, the algorithm attempts the same sequence of moves like DFS."
   ]
  },
  {
   "cell_type": "markdown",
   "id": "b19a769d",
   "metadata": {},
   "source": [
    "2.Branch and Bound"
   ]
  },
  {
   "cell_type": "markdown",
   "id": "3620fb5a",
   "metadata": {},
   "source": [
    "The search for an answer node can often be speeded by using an “intelligent” ranking function, also called an approximate hauristic function or cost function to avoid searching in sub-trees that do not contain an answer node. It is similar to the backtracking technique but uses a BFS-like search."
   ]
  },
  {
   "cell_type": "markdown",
   "id": "07fce0a0",
   "metadata": {},
   "source": [
    "There are basically three types of nodes involved in Branch and Bound \n",
    "1. Live node is a node that has been generated but whose children have not yet been generated. \n",
    "2. E-node is a live node whose children are currently being explored. In other words, an E-node is a node currently being expanded. \n",
    "3. Dead node is a generated node that is not to be expanded or explored any further. All children of a dead node have already been expanded."
   ]
  },
  {
   "cell_type": "markdown",
   "id": "af0d1d19",
   "metadata": {},
   "source": [
    "Cost function: \n",
    "Each node X in the search tree is associated with a cost. The cost function is useful for determining the next E-node. The next E-node is the one with the least cost. The cost function is defined as \n",
    "\n",
    "   C(X) = g(X) + h(X) where\n",
    "   \n",
    "   g(X) = cost of reaching the current node \n",
    "          from the root\n",
    "          \n",
    "   h(X) = cost of reaching an answer node from X.\n",
    "   \n",
    "  The cost function can be replaced by a Hauristic function which helps to predict the next best route."
   ]
  },
  {
   "cell_type": "markdown",
   "id": "9449f834",
   "metadata": {},
   "source": [
    "## Method 1"
   ]
  },
  {
   "cell_type": "code",
   "execution_count": 19,
   "id": "7f6e6e40",
   "metadata": {},
   "outputs": [
    {
     "name": "stdout",
     "output_type": "stream",
     "text": [
      "1 2 3 _ 4 6 7 5 8\n",
      "\n",
      "1 2 3 \n",
      "_ 4 6 \n",
      "7 5 8 \n",
      "_______\n",
      "\n",
      "1 2 3 \n",
      "4 _ 6 \n",
      "7 5 8 \n",
      "_______\n",
      "\n",
      "1 2 3 \n",
      "4 5 6 \n",
      "7 _ 8 \n",
      "_______\n",
      "\n",
      "1 2 3 \n",
      "4 5 6 \n",
      "7 8 _ \n",
      "_______\n"
     ]
    }
   ],
   "source": [
    "GoalMatrix=['1', '2', '3', '4', '5', '6', '7', '8', '_']\n",
    "def hVal(x):\n",
    "    x=[i==j for i,j in zip(x,GoalMatrix)].count(False)\n",
    "    return x\n",
    "def printBox(a):\n",
    "    for i,val in enumerate(a):\n",
    "        if( (i)%3 == 0):print()\n",
    "        print(val,end=\" \")\n",
    "    print('\\n_______')\n",
    "givenMatrix=input().split()\n",
    "tempMat=givenMatrix.copy()\n",
    "while(hVal(tempMat)):\n",
    "    printBox(tempMat)\n",
    "    ind=tempMat.index('_')\n",
    "    temparray=tempMat.copy()\n",
    "    swapIndex=-1\n",
    "    #checking For Baranches\n",
    "    if ind == 4:#Contains 4 Branches\n",
    "        hvl=[]\n",
    "        sam=[]\n",
    "        for i in [1,3,5,7]:\n",
    "            temp=temparray.copy()\n",
    "            temp[ind],temp[i]=temp[i],temp[ind]\n",
    "            sam.append(temp)\n",
    "            hvl.append(hVal(temp))\n",
    "        #updating the tempMatrix using hurestic Value\n",
    "        tempMat=sam[hvl.index(min(hvl))].copy()\n",
    "        \n",
    "    elif(ind in [0,2,6,8]):#Contains 3 Branches\n",
    "        x,y=0,0\n",
    "        for i in [0,2,6,8]:\n",
    "            if not i == ind:continue\n",
    "            if i==0:x,y=1,3\n",
    "            elif i==2:x,y=1,5\n",
    "            elif i==6:x,y=3,7\n",
    "            elif i==8:x,y=7,5\n",
    "            hvl=[]\n",
    "            temp=temparray.copy()\n",
    "            temp[ind],temp[x]=temp[x],temp[ind]\n",
    "            hvl.append(hVal(temp))\n",
    "            #Checking another posiibility\n",
    "            temp1=temparray.copy()\n",
    "            temp1[ind],temp1[y]=temp1[y],temp1[ind]\n",
    "            hvl.append(hVal(temp1))\n",
    "            if( hvl[0] < hvl[1] ):\n",
    "                tempMat=temp.copy()\n",
    "            else:\n",
    "                tempMat=temp1.copy()\n",
    "            \n",
    "    elif ind in [1,3,5,7]:\n",
    "        x,y,z=0,0,0\n",
    "        for i in [1,3,5,7]:\n",
    "            if not i == ind:continue\n",
    "            if   i==1:x,y,z=0,2,4\n",
    "            elif i==3:x,y,z=0,4,6\n",
    "            elif i==5:x,y,z=2,4,8\n",
    "            elif i==7:x,y,z=4,6,8\n",
    "            hvl=[]\n",
    "            sam=[]\n",
    "            temp=temparray.copy()\n",
    "            temp[x],temp[ind]=temp[ind],temp[x]\n",
    "            sam.append(temp)\n",
    "            hvl.append(hVal(temp))\n",
    "            #Checking another posiibility\n",
    "            temp1=temparray.copy()\n",
    "            temp1[y],temp1[ind]=temp1[ind],temp1[y]\n",
    "            sam.append(temp1)\n",
    "            hvl.append(hVal(temp1))\n",
    "            #Checking another posiibility\n",
    "            temp2=temparray.copy()\n",
    "            temp2[z],temp2[ind]=temp2[ind],temp2[z]\n",
    "            sam.append(temp2)\n",
    "            hvl.append(hVal(temp2))\n",
    "            tempMat=sam[hvl.index(min(hvl))].copy()#updating the tempMatrix using hurestic Value\n",
    "printBox(tempMat)"
   ]
  },
  {
   "cell_type": "markdown",
   "id": "67a4cc14",
   "metadata": {},
   "source": [
    "## Method 2"
   ]
  },
  {
   "cell_type": "code",
   "execution_count": 18,
   "id": "993cc3bd",
   "metadata": {},
   "outputs": [
    {
     "name": "stdout",
     "output_type": "stream",
     "text": [
      "1 2 3 _ 4 6 7 5 8\n",
      "1 2 3\n",
      "_ 4 6\n",
      "7 5 8\n",
      "======\n",
      "1 2 3\n",
      "4 _ 6\n",
      "7 5 8\n",
      "======\n",
      "1 2 3\n",
      "4 5 6\n",
      "7 _ 8\n",
      "======\n",
      "1 2 3\n",
      "4 5 6\n",
      "7 8 _\n",
      "Successfully Reached Goal state with above steps\n"
     ]
    }
   ],
   "source": [
    "gstate=list(range(1,9))\n",
    "gstate.append(\"_\")\n",
    "\n",
    "\n",
    "#ist=[1,2,3,\"_\",4,6,7,5,8]\n",
    "\n",
    "ist=input().split()\n",
    "for i in range(len(ist)):\n",
    "    if ist[i]==\"_\":\n",
    "        continue\n",
    "    ist[i]=int(ist[i])\n",
    "    \n",
    "\n",
    "\n",
    "def printm(q):\n",
    "    print(q[0],q[1],q[2])\n",
    "    print(q[3],q[4],q[5])\n",
    "    print(q[6],q[7],q[8])\n",
    "\n",
    "\n",
    "def hauristic(l,gstate):\n",
    "    h=0\n",
    "    for i in range(len(l)-1):\n",
    "        if l[i]!=gstate[i]:\n",
    "            h+=1\n",
    "    return h\n",
    "\n",
    "\n",
    "def move_down(i,l):\n",
    "    l[i],l[i+3]=l[i+3],l[i]\n",
    "    return hauristic(l,gstate),l\n",
    "    \n",
    "def move_left(i,l):\n",
    "    l[i],l[i-1]=l[i-1],l[i]\n",
    "    return hauristic(l,gstate),l\n",
    "    \n",
    "def move_top(i,l):\n",
    "    l[i],l[i-3]=l[i-3],l[i]\n",
    "    return hauristic(l,gstate),l\n",
    "    \n",
    "def move_right(i,l):\n",
    "    l[i],l[i+1]=l[i+1],l[i]\n",
    "    return hauristic(l,gstate),l\n",
    "\n",
    "\n",
    "\n",
    "\n",
    "\n",
    "printm(ist)\n",
    "h=1000\n",
    "while h!=0:\n",
    "    print(\"======\")\n",
    "    for i in range(len(ist)):\n",
    "        if ist[i] ==\"_\":\n",
    "            break\n",
    "    h1,h2,h3,h4=1000,1000,1000,1000\n",
    "    if (i+1)% 3==0:\n",
    "        pass\n",
    "    else:\n",
    "        istt=ist.copy()\n",
    "        h1,t1=move_right(i,istt)\n",
    "        \n",
    "    if i%3==0 or i==0:\n",
    "        pass\n",
    "    else:\n",
    "        istt=ist.copy()\n",
    "        h2,t2=move_left(i,istt)\n",
    "        \n",
    "    if i in [0,1,2]:\n",
    "        pass\n",
    "    else:\n",
    "        istt=ist.copy()\n",
    "        h3,t3=move_top(i,istt)\n",
    "        \n",
    "    if (i+1)==7 or (i+1)==8 or (i+1)==9:\n",
    "        pass\n",
    "    else:\n",
    "        istt=ist.copy()\n",
    "        h4,t4=move_down(i,istt)\n",
    "        \n",
    "    x=min(min(h1,h2),min(h3,h4))\n",
    "    if x==h1:\n",
    "        h=h1\n",
    "        ist=t1\n",
    "        printm(ist)\n",
    "        \n",
    "    elif x==h2:\n",
    "        h=h2\n",
    "        ist=t2\n",
    "        printm(ist)\n",
    "    elif x==h3:\n",
    "        h=h3\n",
    "        ist=t3\n",
    "        printm(ist)\n",
    "    elif x==h4:\n",
    "        h=h4\n",
    "        ist=t4\n",
    "        printm(ist)\n",
    "    else:\n",
    "        break\n",
    "    if h==0:\n",
    "        print(\"Successfully Reached Goal state with above steps\")"
   ]
  },
  {
   "cell_type": "code",
   "execution_count": null,
   "id": "1fa0b2e4",
   "metadata": {},
   "outputs": [],
   "source": []
  },
  {
   "cell_type": "markdown",
   "id": "cb664f7d",
   "metadata": {},
   "source": [
    "# Write a python program to implement Towers of Hanoi problem."
   ]
  },
  {
   "cell_type": "markdown",
   "id": "e3cf2243",
   "metadata": {},
   "source": [
    "## Description:"
   ]
  },
  {
   "cell_type": "code",
   "execution_count": null,
   "id": "fe7ec95d",
   "metadata": {},
   "outputs": [],
   "source": []
  },
  {
   "cell_type": "code",
   "execution_count": null,
   "id": "f685de91",
   "metadata": {},
   "outputs": [],
   "source": []
  },
  {
   "cell_type": "code",
   "execution_count": null,
   "id": "fa68d0f2",
   "metadata": {},
   "outputs": [],
   "source": []
  },
  {
   "cell_type": "markdown",
   "id": "f52f73a8",
   "metadata": {},
   "source": [
    "# Write a python program to implement Depth First Search algorithm."
   ]
  },
  {
   "cell_type": "markdown",
   "id": "1d97c724",
   "metadata": {},
   "source": [
    "## Description: "
   ]
  },
  {
   "cell_type": "code",
   "execution_count": null,
   "id": "de38f118",
   "metadata": {},
   "outputs": [],
   "source": []
  },
  {
   "cell_type": "code",
   "execution_count": null,
   "id": "69bc8250",
   "metadata": {},
   "outputs": [],
   "source": []
  },
  {
   "cell_type": "code",
   "execution_count": null,
   "id": "3d654e47",
   "metadata": {},
   "outputs": [],
   "source": []
  },
  {
   "cell_type": "markdown",
   "id": "d2b58814",
   "metadata": {},
   "source": [
    "# Write a python program to implement Breadth First Search algorithm."
   ]
  },
  {
   "cell_type": "markdown",
   "id": "de247836",
   "metadata": {},
   "source": [
    "## Description:"
   ]
  },
  {
   "cell_type": "code",
   "execution_count": null,
   "id": "882f26a2",
   "metadata": {},
   "outputs": [],
   "source": []
  },
  {
   "cell_type": "code",
   "execution_count": null,
   "id": "6e39c1ac",
   "metadata": {},
   "outputs": [],
   "source": []
  },
  {
   "cell_type": "code",
   "execution_count": null,
   "id": "cb2111ad",
   "metadata": {},
   "outputs": [],
   "source": []
  },
  {
   "cell_type": "markdown",
   "id": "69fcf782",
   "metadata": {},
   "source": [
    "# Write a python program to implement A* Search algorithm."
   ]
  },
  {
   "cell_type": "markdown",
   "id": "61ba4ebf",
   "metadata": {},
   "source": [
    "## Description:"
   ]
  },
  {
   "cell_type": "code",
   "execution_count": null,
   "id": "d0758b67",
   "metadata": {},
   "outputs": [],
   "source": []
  },
  {
   "cell_type": "code",
   "execution_count": null,
   "id": "ad320a83",
   "metadata": {},
   "outputs": [],
   "source": []
  },
  {
   "cell_type": "code",
   "execution_count": null,
   "id": "a62e1e9c",
   "metadata": {},
   "outputs": [],
   "source": []
  },
  {
   "cell_type": "markdown",
   "id": "1845a6b9",
   "metadata": {},
   "source": [
    "# Write a python program to implement AI chatbot application."
   ]
  },
  {
   "cell_type": "markdown",
   "id": "d7fa48e2",
   "metadata": {},
   "source": [
    "## Description:"
   ]
  },
  {
   "cell_type": "code",
   "execution_count": null,
   "id": "571a826b",
   "metadata": {},
   "outputs": [],
   "source": []
  },
  {
   "cell_type": "code",
   "execution_count": null,
   "id": "8a10e131",
   "metadata": {},
   "outputs": [],
   "source": []
  },
  {
   "cell_type": "code",
   "execution_count": null,
   "id": "fd2fe250",
   "metadata": {},
   "outputs": [],
   "source": []
  },
  {
   "cell_type": "markdown",
   "id": "52974ff0",
   "metadata": {},
   "source": [
    "# Write a python program to implement MDP concepts."
   ]
  },
  {
   "cell_type": "markdown",
   "id": "a90b4b63",
   "metadata": {},
   "source": [
    "## Description:"
   ]
  },
  {
   "cell_type": "code",
   "execution_count": null,
   "id": "ca3d607a",
   "metadata": {},
   "outputs": [],
   "source": []
  },
  {
   "cell_type": "code",
   "execution_count": null,
   "id": "4d9f9d06",
   "metadata": {},
   "outputs": [],
   "source": []
  },
  {
   "cell_type": "code",
   "execution_count": null,
   "id": "547ab1f2",
   "metadata": {},
   "outputs": [],
   "source": []
  },
  {
   "cell_type": "markdown",
   "id": "0893ae14",
   "metadata": {},
   "source": [
    "# Write a python program to implement Reinforcement Learning examples."
   ]
  },
  {
   "cell_type": "markdown",
   "id": "577ea021",
   "metadata": {},
   "source": [
    "## Description:"
   ]
  },
  {
   "cell_type": "code",
   "execution_count": null,
   "id": "03de8709",
   "metadata": {},
   "outputs": [],
   "source": []
  },
  {
   "cell_type": "code",
   "execution_count": null,
   "id": "4b50f8be",
   "metadata": {},
   "outputs": [],
   "source": []
  },
  {
   "cell_type": "code",
   "execution_count": null,
   "id": "50914af4",
   "metadata": {},
   "outputs": [],
   "source": []
  }
 ],
 "metadata": {
  "kernelspec": {
   "display_name": "Python 3 (ipykernel)",
   "language": "python",
   "name": "python3"
  },
  "language_info": {
   "codemirror_mode": {
    "name": "ipython",
    "version": 3
   },
   "file_extension": ".py",
   "mimetype": "text/x-python",
   "name": "python",
   "nbconvert_exporter": "python",
   "pygments_lexer": "ipython3",
   "version": "3.7.6"
  }
 },
 "nbformat": 4,
 "nbformat_minor": 5
}
