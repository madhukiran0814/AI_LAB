{
 "cells": [
  {
   "cell_type": "markdown",
   "id": "2f0711bb",
   "metadata": {},
   "source": [
    "# Experiment - 1"
   ]
  },
  {
   "cell_type": "markdown",
   "id": "b865d8ae",
   "metadata": {},
   "source": [
    "# Write a python program to implement water jug problem."
   ]
  },
  {
   "cell_type": "markdown",
   "id": "2579093b",
   "metadata": {},
   "source": [
    "## Aim : "
   ]
  },
  {
   "cell_type": "markdown",
   "id": "148bebbc",
   "metadata": {},
   "source": [
    "To write a python program to implement water jug problem."
   ]
  },
  {
   "cell_type": "markdown",
   "id": "8bd3b7f6",
   "metadata": {},
   "source": [
    "## Description:"
   ]
  },
  {
   "cell_type": "markdown",
   "id": "cf5017a7",
   "metadata": {},
   "source": [
    "You are on the side of the river. You are given a m liter jug and a n liter jug where 0 < m < n. Both the jugs are initially empty. The jugs don’t have markings to allow measuring smaller quantities. You have to use the jugs to measure d liters of water where d < n. Determine the minimum no of operations to be performed to obtain d liters of water in one of jug. "
   ]
  },
  {
   "cell_type": "markdown",
   "id": "bf23ea75",
   "metadata": {},
   "source": [
    "The operations you can perform are: "
   ]
  },
  {
   "cell_type": "markdown",
   "id": "40029813",
   "metadata": {},
   "source": [
    "1.Empty a Jug "
   ]
  },
  {
   "cell_type": "markdown",
   "id": "2e1dcfd5",
   "metadata": {},
   "source": [
    "2.Fill a Jug"
   ]
  },
  {
   "cell_type": "markdown",
   "id": "2e81fa9c",
   "metadata": {},
   "source": [
    "3.Pour water from one jug to the other until one of the jugs is either empty or full."
   ]
  },
  {
   "cell_type": "markdown",
   "id": "8c208512",
   "metadata": {},
   "source": [
    "There are several ways of solving this problem including BFS and DP(Dynamic Programming)."
   ]
  },
  {
   "cell_type": "markdown",
   "id": "b9ce1894",
   "metadata": {},
   "source": [
    "## Programs :"
   ]
  },
  {
   "cell_type": "markdown",
   "id": "ee18ae0f",
   "metadata": {},
   "source": [
    "## Method 1"
   ]
  },
  {
   "cell_type": "code",
   "execution_count": 21,
   "id": "d43095c2",
   "metadata": {},
   "outputs": [
    {
     "name": "stdout",
     "output_type": "stream",
     "text": [
      "JAR 1 Capacity Should be Greater than JAR2\n",
      "Enter the capacity of JAR 1 :5\n",
      "Enter the capacity of JAR 2 :3\n",
      "Enter value for LEFT OUt  in JAR 1 : 4\n",
      "(0,0)\n",
      "(0,3)\n",
      "(3,0)\n",
      "(3,3)\n",
      "(5,1)\n",
      "(1,0)\n",
      "(1,3)\n",
      "(4,0)\n"
     ]
    }
   ],
   "source": [
    "print(\"JAR 1 Capacity Should be Greater than JAR2\")\n",
    "\n",
    "while(True):\n",
    "    try:\n",
    "        xc=int(input(\"Enter the capacity of JAR 1 :\"))\n",
    "        yc=int(input(\"Enter the capacity of JAR 2 :\"))    \n",
    "        target=int(input(\"Enter value for LEFT OUt  in JAR 1 : \"))\n",
    "        break\n",
    "    except:\n",
    "        print(\"values must me integer\")\n",
    "    \n",
    "x=y=0\n",
    "if(xc <= yc ):\n",
    "    print(\"JAR 1 Capacity Should be Greater than JAR2\")\n",
    "else:\n",
    "    print(f'({x},{y})')\n",
    "    while(True):\n",
    "        if(x==target):\n",
    "            break\n",
    "        else:\n",
    "            if(y==0):\n",
    "                y=yc\n",
    "                print(f'({x},{y})')\n",
    "            if(x < xc and y>0 ):\n",
    "                temp=xc-x\n",
    "                if(y>=temp):\n",
    "                    y-=temp\n",
    "                    x+=temp\n",
    "                    print(f'({x},{y})')\n",
    "                    if(x==target):break\n",
    "                else:\n",
    "                    x+=y\n",
    "                    y=0\n",
    "                    print(f'({x},{y})')\n",
    "            if(x==xc):\n",
    "                x=0"
   ]
  },
  {
   "cell_type": "markdown",
   "id": "ae017a11",
   "metadata": {},
   "source": [
    "## Method 2"
   ]
  },
  {
   "cell_type": "code",
   "execution_count": 43,
   "id": "accc4f35",
   "metadata": {},
   "outputs": [
    {
     "name": "stdout",
     "output_type": "stream",
     "text": [
      "water jug problem\n",
      "enter X:0\n",
      "enter Y:0\n",
      "enter the rule number2\n",
      "x= 0\n",
      "y= 3\n",
      "enter the rule number7\n",
      "x= 3\n",
      "y= 0\n",
      "enter the rule number2\n",
      "x= 3\n",
      "y= 3\n",
      "enter the rule number5\n",
      "x= 4\n",
      "y= 2\n",
      "enter the rule number3\n",
      "x= 0\n",
      "y= 2\n",
      "enter the rule number7\n",
      "x= 2\n",
      "y= 0\n",
      "the result is goal state\n"
     ]
    }
   ],
   "source": [
    "print(\"water jug problem\")\n",
    "x=int(input(\"enter X:\"))\n",
    "y=int(input(\"enter Y:\"))\n",
    "while True:\n",
    "    rn=int(input(\"enter the rule number\"))\n",
    "    if rn==1:\n",
    "        if x<4:x=4\n",
    "    if rn==2:\n",
    "        if y<3:y=3\n",
    "    if rn==3:\n",
    "        if x>0:x=0\n",
    "    if rn==4:\n",
    "        if y>0:y=0\n",
    "    if rn==5:\n",
    "        if x+y>=4 and y>0:x,y=4,y-(4-x)\n",
    "    if rn==6:\n",
    "        if x+y>=3 and x>0:x,y=x-(3-y),3\n",
    "    if rn==7:\n",
    "        if x+y<=4 and y>0:x,y=x+y,0\n",
    "    if rn==8:\n",
    "        if x+y<=3 and x>0:x,y=0,x+y\n",
    "    print(\"x=\",x)\n",
    "    print(\"y=\",y)\n",
    "    if x==2:\n",
    "        print(\"the result is goal state\")\n",
    "        break\n"
   ]
  },
  {
   "cell_type": "markdown",
   "id": "035c8e05",
   "metadata": {},
   "source": [
    "# Experiment - 2"
   ]
  },
  {
   "cell_type": "markdown",
   "id": "3b5e7be8",
   "metadata": {},
   "source": [
    "# Write a python program to implement Tic-Tac-Toe game."
   ]
  },
  {
   "cell_type": "markdown",
   "id": "b7a3c3ef",
   "metadata": {},
   "source": [
    "## Aim :"
   ]
  },
  {
   "cell_type": "markdown",
   "id": "b36c827a",
   "metadata": {},
   "source": [
    "To write a python program to implement Tic-Tac-Toe game."
   ]
  },
  {
   "cell_type": "markdown",
   "id": "96029b3d",
   "metadata": {},
   "source": [
    "## Description:"
   ]
  },
  {
   "cell_type": "markdown",
   "id": "b126a73a",
   "metadata": {},
   "source": [
    "It is a two-player game. In this game, there is a board with 3×3 squares."
   ]
  },
  {
   "cell_type": "markdown",
   "id": "f37c5b13",
   "metadata": {},
   "source": [
    "In this game a player can choose between two symbols with his opponent, the usual games use “X” and “O”. If the first player chooses “X”, then the second player must play with “O” and vice versa."
   ]
  },
  {
   "cell_type": "markdown",
   "id": "d7b04679",
   "metadata": {},
   "source": [
    "A player marks one of the 3×3 squares with his symbol and he aims to create a straight line horizontally or vertically or diagonally with two intensions:"
   ]
  },
  {
   "cell_type": "markdown",
   "id": "4b887db4",
   "metadata": {},
   "source": [
    "1.Create a straight line before your opponent to win the game. "
   ]
  },
  {
   "cell_type": "markdown",
   "id": "ebcc9e10",
   "metadata": {},
   "source": [
    "2.Prevent his opponent from creating a straight line first."
   ]
  },
  {
   "cell_type": "markdown",
   "id": "1ae6518d",
   "metadata": {},
   "source": [
    "If no one can logically create a straight line with its symbol, the game ends in a tie. So there are only three possible outcomes: one player wins, his opponent (human or computer) wins, or there is a tie."
   ]
  },
  {
   "cell_type": "markdown",
   "id": "4be3f55d",
   "metadata": {},
   "source": [
    "## Programs :"
   ]
  },
  {
   "cell_type": "markdown",
   "id": "13314da7",
   "metadata": {},
   "source": [
    "## Method 1"
   ]
  },
  {
   "cell_type": "code",
   "execution_count": 46,
   "id": "b3174e0b",
   "metadata": {},
   "outputs": [
    {
     "name": "stdout",
     "output_type": "stream",
     "text": [
      "tic tac toe game\n",
      "\n",
      "|  |  |  |\n",
      "|  |  |  |\n",
      "|  |  |  |\n",
      "which mode do you want to play \n",
      " 1.com vs player \n",
      " 2.player vs player1\n",
      "|  |  |  |\n",
      "|  |  |  |\n",
      "|  |  |  |\n",
      "your turn player1\n",
      "enter your move(1-9):5\n",
      "|  |  |  |\n",
      "|  | x |  |\n",
      "|  |  |  |\n",
      "computer turn\n",
      "8\n",
      "|  |  |  |\n",
      "|  | x |  |\n",
      "|  | o |  |\n",
      "your turn player1\n",
      "enter your move(1-9):6\n",
      "|  |  |  |\n",
      "|  | x | x |\n",
      "|  | o |  |\n",
      "computer turn\n",
      "6\n",
      "the place was taken\n",
      "\n",
      "computer turn\n",
      "9\n",
      "|  |  |  |\n",
      "|  | x | x |\n",
      "|  | o | o |\n",
      "your turn player1\n",
      "enter your move(1-9):4\n",
      "|  |  |  |\n",
      "| x | x | x |\n",
      "|  | o | o |\n",
      "player(x)win..congrats\n"
     ]
    },
    {
     "ename": "SystemExit",
     "evalue": "",
     "output_type": "error",
     "traceback": [
      "An exception has occurred, use %tb to see the full traceback.\n",
      "\u001b[1;31mSystemExit\u001b[0m\n"
     ]
    },
    {
     "name": "stderr",
     "output_type": "stream",
     "text": [
      "C:\\Users\\91996\\AppData\\Roaming\\Python\\Python37\\site-packages\\IPython\\core\\interactiveshell.py:3532: UserWarning: To exit: use 'exit', 'quit', or Ctrl-D.\n",
      "  warn(\"To exit: use 'exit', 'quit', or Ctrl-D.\", stacklevel=1)\n"
     ]
    }
   ],
   "source": [
    "import random,sys,time\n",
    "n=[j for j in range(0,10)]\n",
    "board=[\"\"for i in range(9)]\n",
    "print(\"tic tac toe game\")\n",
    "print()\n",
    "def print_board():\n",
    "    r1=\"| {} | {} | {} |\".format(board[0],board[1],board[2])\n",
    "    r2=\"| {} | {} | {} |\".format(board[3],board[4],board[5])\n",
    "    r3=\"| {} | {} | {} |\".format(board[6],board[7],board[8])\n",
    "    print(r1)\n",
    "    print(r2)\n",
    "    print(r3)\n",
    "print_board()\n",
    "def player_move(icon):\n",
    "    if icon==\"x\":\n",
    "        number=1\n",
    "    elif icon==\"o\":\n",
    "        number=2\n",
    "    print(\"your turn player{}\".format(number))\n",
    "    choice1=int(input(\"enter your move(1-9):\").strip())\n",
    "    if choice1>0 and choice1<9:\n",
    "        if board[choice1-1]==\"\":\n",
    "            board[choice1-1]=icon\n",
    "        else:\n",
    "            print()\n",
    "            print(\"the place was taken..\")\n",
    "            print()\n",
    "            player_move(icon)\n",
    "    else:\n",
    "        print(\"invalid move..please enter again\")\n",
    "        player_move(icon)\n",
    "            \n",
    "                \n",
    "def player_movec(icon):\n",
    "    n1=random.choice(n)\n",
    "    print(\"computer turn\")\n",
    "    time.sleep(0.5)\n",
    "    print(n1)\n",
    "    time.sleep(1)\n",
    "    if board[n1-1]==\"\":\n",
    "        board[n1-1]=icon\n",
    "    else:\n",
    "        print(\"the place was taken\")\n",
    "        print()\n",
    "        player_movec(icon)\n",
    "        \n",
    "def is_victory(icon):\n",
    "    if(board[0]==icon and board[1]==icon and board[2]==icon) or\\\n",
    "      (board[3]==icon and board[4]==icon and board[5]==icon) or\\\n",
    "      (board[6]==icon and board[7]==icon and board[8]==icon) or\\\n",
    "      (board[1]==icon and board[3]==icon and board[6]==icon) or\\\n",
    "      (board[2]==icon and board[4]==icon and board[7]==icon) or\\\n",
    "      (board[2]==icon and board[5]==icon and board[8]==icon) or\\\n",
    "      (board[0]==icon and board[4]==icon and board[8]==icon) or\\\n",
    "      (board[2]==icon and board[4]==icon and board[6]==icon):\n",
    "        return True\n",
    "    else:\n",
    "        return False\n",
    "def is_draw(icon):\n",
    "    if \"\" not in board:\n",
    "        return True\n",
    "    else:\n",
    "        return False \n",
    "while True:\n",
    "    ch=int(input(\"which mode do you want to play \\n 1.com vs player \\n 2.player vs player\"))\n",
    "    if ch==1:\n",
    "        while True:\n",
    "            print_board()\n",
    "            player_move(\"x\")\n",
    "            print_board()\n",
    "            if is_victory(\"x\"):\n",
    "                print(\"player(x)win..congrats\")\n",
    "                sys.exit()\n",
    "            elif is_draw(\"x\"):\n",
    "                print(\"its a draw \")\n",
    "                sys.exit()\n",
    "            player_movec(\"o\")\n",
    "            if is_victory(\"o\"):\n",
    "                print_board()\n",
    "                print(\"player(o)wins..congrats\")\n",
    "                sys.exit()\n",
    "            elif is_draw(\"o\"):\n",
    "                print(\"its a draw\")\n",
    "                sys.exit()\n",
    "    elif ch==2:\n",
    "        while True:\n",
    "            print_board()\n",
    "            player_move(\"x\")\n",
    "            print_board()\n",
    "            if is_victory(\"x\"):\n",
    "                print(\"player(x) wins... congratulation\")\n",
    "                sys.exit()\n",
    "            elif is_draw(x):\n",
    "                print(\"its a draw\")\n",
    "                sys.exit()\n",
    "            player_move(\"0\")\n",
    "            if is_victory(\"0\"):\n",
    "                print(\"player (0) wins...congratulation\")\n",
    "                sys.exit()\n",
    "    else:\n",
    "        print(\"enter correct choice\")\n"
   ]
  },
  {
   "cell_type": "markdown",
   "id": "d9e7101a",
   "metadata": {},
   "source": [
    "## Method 2"
   ]
  },
  {
   "cell_type": "code",
   "execution_count": 35,
   "id": "58ba5e78",
   "metadata": {},
   "outputs": [
    {
     "name": "stdout",
     "output_type": "stream",
     "text": [
      "     |     |     \n",
      "  1  |  X  |  O  \n",
      "_____|_____|_____\n",
      "     |     |     \n",
      "  X  |  O  |  6  \n",
      "_____|_____|_____\n",
      "     |     |     \n",
      "  O  |  O  |  X  \n",
      "_____|_____|_____\n",
      " !!!!!! Player Wins !!!!!!\n"
     ]
    }
   ],
   "source": [
    "from IPython.display import clear_output as clsScr\n",
    "import random\n",
    "import time\n",
    "myBox=[0,1,2,3,4,5,6,7,8,9]\n",
    "def box():\n",
    "    clsScr()\n",
    "    print(\"     |     |     \")\n",
    "    print(f\"  {myBox[1]}  |  {myBox[2]}  |  {myBox[3]}  \")\n",
    "    print(\"_____|_____|_____\")\n",
    "    print(\"     |     |     \")\n",
    "    print(f\"  {myBox[4]}  |  {myBox[5]}  |  {myBox[6]}  \")\n",
    "    print(\"_____|_____|_____\")\n",
    "    print(\"     |     |     \")\n",
    "    print(f\"  {myBox[7]}  |  {myBox[8]}  |  {myBox[9]}  \")\n",
    "    print(\"_____|_____|_____\")\n",
    "\n",
    "def userInput():\n",
    "    box()\n",
    "    placement=int(input('Enter Your Choice : '))\n",
    "    while(True):\n",
    "        if( 0 < placement < 10 ):\n",
    "            if( not myBox[placement] in ['X','O'] ):\n",
    "                myBox[placement]='O'\n",
    "                clsScr()\n",
    "                break\n",
    "            else:\n",
    "                placement=int(input(\"Invalid Choice - Box is Already Filled \\n Enter Your Choice : \"))\n",
    "        else:\n",
    "            placement=int(input(\"Choose Between the Available Values in  the Box : \"))\n",
    "    box()\n",
    "\n",
    "def tie():\n",
    "    tester=[ True if i in ['X','O'] else False for i in myBox[1:]]\n",
    "    if(all(tester)):\n",
    "        return True\n",
    "    return False\n",
    "\n",
    "def isGameOver():\n",
    "    box()\n",
    "    myGrid=[ myBox[i:i+3] for i in range(1,10,3) ]\n",
    "    for i in range(3):#Checking ROw by Row\n",
    "        if(myGrid[0][i] == myGrid[1][i] and myGrid[1][i] == myGrid[2][i]):\n",
    "            if(myGrid[0][i]=='X'):\n",
    "                print(\" !!!!!!  AI Wins !!!!!!\")\n",
    "            else:\n",
    "                print(\" !!!!!! Player Wins !!!!!!\")\n",
    "            return True\n",
    "    for i in range(3):#Checking Col by Col\n",
    "        if(myGrid[i][0] == myGrid[i][1] and myGrid[i][1] == myGrid[i][2]):\n",
    "            if(myGrid[i][0]=='X'):\n",
    "                print(\" !!!!!!  AI Wins !!!!!!\")\n",
    "            else:\n",
    "                print(\"Player Wins !!!!!!\")\n",
    "            return True\n",
    "        \n",
    "    #Checking Diagonally\n",
    "    if(myGrid[0][0] == myGrid[1][1] and myGrid[1][1] == myGrid[2][2]):\n",
    "            if(myGrid[0][0]=='X'):\n",
    "                print(\" !!!!!!  AI Wins !!!!!!\")\n",
    "            else:\n",
    "                print(\" !!!!!! Player Wins !!!!!!\")\n",
    "            return True\n",
    "    \n",
    "    if(myGrid[2][0] == myGrid[1][1] and myGrid[1][1] == myGrid[0][2]):\n",
    "            if(myGrid[0][2]=='X'):\n",
    "                print(\" !!!!!!  AI Wins !!!!!!\")\n",
    "            else:\n",
    "                print(\" !!!!!! Player Wins !!!!!!\")\n",
    "            return True\n",
    "    if(tie()):#Checking if the Box is Filled or Tie\n",
    "        box()\n",
    "        print(\"!!!! It's a Tie !!!!!!\")\n",
    "        return True\n",
    "    return False\n",
    "\n",
    "def checker(ch):\n",
    "    \n",
    "    numGrid= [ [1,2,3],[4,5,6],[7,8,9] ]\n",
    "    myGrid=[ myBox[i:i+3] for i in range(1,10,3)  ]\n",
    "    for i,row in enumerate(myGrid):\n",
    "            if(row.count(ch) == 2 ):\n",
    "                for j,val in enumerate(row):\n",
    "                    if( val not in ['O','X']):\n",
    "                        myBox[numGrid[i][j]]='X'\n",
    "                        box()\n",
    "                        return True\n",
    "\n",
    "    myCol=[ [myGrid[0][0],myGrid[1][0],myGrid[2][0] ] , [myGrid[0][1],myGrid[1][1],myGrid[2][1] ] ,[[myGrid[0][2],myGrid[1][2],myGrid[2][2] ]]  ]\n",
    "    for i,row in enumerate(myCol):\n",
    "        if(row.count(ch) == 2 ):\n",
    "            for j,val in enumerate(row):\n",
    "                if(val not in ['O','X']):\n",
    "                    myBox[numGrid[j][i]]='X'\n",
    "                    box()\n",
    "                    return True\n",
    "\n",
    "    diagonal1=[ myGrid[0][0],myGrid[1][1],myGrid[2][2]  ]\n",
    "\n",
    "    if( diagonal1.count(ch) ==2  ):\n",
    "        for i in range(3):\n",
    "            if( myGrid[i][i] not in ['X','O'] ):\n",
    "                if(i==0):\n",
    "                    myBox[1]='X'\n",
    "                elif(i==1):\n",
    "                    myBox[5]='X'\n",
    "                else:\n",
    "                    myBox[9]='X'\n",
    "                box()\n",
    "                return True\n",
    "\n",
    "    diagonal2=[ myGrid[2][0],myGrid[1][1],myGrid[0][2]  ]\n",
    "    if( diagonal2.count(ch) ==2  ):\n",
    "        for i in range(3):\n",
    "            if( myGrid[abs(i-2)][i] not in ['X','O'] ):\n",
    "                if(i==0):\n",
    "                    myBox[7]='X'\n",
    "                elif(i==1):\n",
    "                    myBox[5]='X'\n",
    "                else:\n",
    "                    myBox[3]='X'\n",
    "                box()\n",
    "                return True\n",
    "    \n",
    "    \n",
    "def botTurn():\n",
    "    numGrid= [ [1,2,3],[4,5,6],[7,8,9] ]\n",
    "    \n",
    "    myGrid=[ myBox[i:i+3] for i in range(1,10,3)  ]\n",
    "    \n",
    "    if( any([True if i in ['X','O'] else False for i in myBox]) ):\n",
    "        if(checker('X')):return\n",
    "        if(checker('O')):return\n",
    "    while(True):\n",
    "        i=random.randint(1,9)\n",
    "        if( myBox[i] not in ['X','O']):\n",
    "            myBox[i]='X'\n",
    "            break\n",
    "    box()\n",
    "def main():\n",
    "    kount=0\n",
    "    while(kount<10):\n",
    "        userInput()\n",
    "        if( isGameOver() ):\n",
    "            break\n",
    "        botTurn()\n",
    "        if( isGameOver() ):\n",
    "            break\n",
    "        kount+=2\n",
    "main()"
   ]
  },
  {
   "cell_type": "markdown",
   "id": "45d39a45",
   "metadata": {},
   "source": [
    "# Experiment - 3"
   ]
  },
  {
   "cell_type": "markdown",
   "id": "26e11995",
   "metadata": {},
   "source": [
    "# Write a python program to implement Travelling Salesman Problem using hill climbing algorithm."
   ]
  },
  {
   "cell_type": "markdown",
   "id": "99ec010d",
   "metadata": {},
   "source": [
    "## Aim :"
   ]
  },
  {
   "cell_type": "markdown",
   "id": "0d425820",
   "metadata": {},
   "source": [
    "To write a python program to implement Travelling Salesman Problem using hill climbing algorithm."
   ]
  },
  {
   "cell_type": "markdown",
   "id": "f81178d8",
   "metadata": {},
   "source": [
    "## Description:"
   ]
  },
  {
   "cell_type": "markdown",
   "id": "cc4b94f5",
   "metadata": {},
   "source": [
    "Travelling Salesman Problem (TSP): Given a set of cities and distance between every pair of cities, the problem is to find the shortest possible route that visits every city exactly once and returns to the starting point. It is a well-known algorithmic problem in the fields of computer science and operations research.\n",
    "There are obviously a lot of different routes to choose from, but finding the best one—the one that will require the least distance or cost is most complex task."
   ]
  },
  {
   "cell_type": "markdown",
   "id": "74e27d9e",
   "metadata": {},
   "source": [
    "They are many approaches in order to solve ths TSP Problem.They are:"
   ]
  },
  {
   "cell_type": "markdown",
   "id": "45c8aff5",
   "metadata": {},
   "source": [
    "1.The Brute-Force Approach"
   ]
  },
  {
   "cell_type": "markdown",
   "id": "25dda8c0",
   "metadata": {},
   "source": [
    "2.The Branch and Bound Method"
   ]
  },
  {
   "cell_type": "markdown",
   "id": "302fee44",
   "metadata": {},
   "source": [
    "3.The Nearest Neighbor Method (Hill Climbing Method)"
   ]
  },
  {
   "cell_type": "markdown",
   "id": "ee787a49",
   "metadata": {},
   "source": [
    "## Program :"
   ]
  },
  {
   "cell_type": "code",
   "execution_count": 1,
   "id": "30cd9a7d",
   "metadata": {},
   "outputs": [
    {
     "name": "stdout",
     "output_type": "stream",
     "text": [
      "([1, 3, 0, 2], 1600)\n"
     ]
    }
   ],
   "source": [
    "import random\n",
    "def randomsoln(tsp):\n",
    "    cities=list(range(len(tsp)))\n",
    "    solution=[]\n",
    "    for i in range(len(tsp)):\n",
    "        randomcity=cities[random.randint(0,len(cities)-1)]\n",
    "        solution.append(randomcity)\n",
    "        cities.remove(randomcity)\n",
    "    return solution\n",
    "def routelen(tsp,soln):\n",
    "    routelength=0\n",
    "    for i in range(len(soln)):\n",
    "        routelength+=tsp[soln[i-1]][soln[i]]\n",
    "    return routelength\n",
    "def getneighbours(soln):\n",
    "    neighbours=[]\n",
    "    for i in range(len(soln)):\n",
    "        for j in range(i+1,len(soln)):\n",
    "            neighbour=soln.copy()\n",
    "            neighbour[i]=soln[j]\n",
    "            neighbour[j]=soln[i]\n",
    "            neighbours.append(neighbour)        \n",
    "        return neighbours\n",
    "def getbestneighbours(tsp,neighbours):\n",
    "    bestroutelen=routelen(tsp,neighbours[0])\n",
    "    bestneighbour=neighbours[0]\n",
    "    for neighbour in neighbours:\n",
    "        currentroutelen=routelen(tsp,neighbour)\n",
    "        if currentroutelen<bestroutelen:\n",
    "            bestroutelen=currentroutelen\n",
    "            bestneighbour=neighbour\n",
    "            \n",
    "        return bestneighbour,bestroutelen\n",
    "def Hillclimbing(tsp):\n",
    "    currentsoln=randomsoln(tsp)\n",
    "    currentroutelen=routelen(tsp,currentsoln)\n",
    "    neighbours=getneighbours(currentsoln)\n",
    "    bestneighbour,bestroutelen=getbestneighbours(tsp,neighbours)\n",
    "    while bestroutelen<currentroutelen:\n",
    "        currentroutelen=bestroutelen\n",
    "        currentsoln=bestneighbour\n",
    "        \n",
    "        neighbours=getneighbours(currentsoln)\n",
    "        bestneighbour,bestroutelen=getbestneighbours(tsp,neighbours)\n",
    "    return currentsoln,currentroutelen\n",
    "\n",
    "tsp=[[0,400,500,300],[400,0,300,500],[500,300,0,400],[300,500,400,0]]\n",
    "\n",
    "print(Hillclimbing(tsp))"
   ]
  },
  {
   "cell_type": "markdown",
   "id": "4431d1c2",
   "metadata": {},
   "source": [
    "# Experiment - 4"
   ]
  },
  {
   "cell_type": "markdown",
   "id": "4bd53b21",
   "metadata": {},
   "source": [
    "# Write a python program to implement 8 puzzle problem."
   ]
  },
  {
   "cell_type": "markdown",
   "id": "3c62ec52",
   "metadata": {},
   "source": [
    "## Aim :"
   ]
  },
  {
   "cell_type": "markdown",
   "id": "7d576c00",
   "metadata": {},
   "source": [
    "To write a python program to implement 8 puzzle problem."
   ]
  },
  {
   "cell_type": "markdown",
   "id": "86dee934",
   "metadata": {},
   "source": [
    "## Description:"
   ]
  },
  {
   "cell_type": "markdown",
   "id": "284486d6",
   "metadata": {},
   "source": [
    "Given a 3×3 board with 8 tiles (every tile has one number from 1 to 8) and one empty space. The objective is to place the numbers on tiles to match the final configuration using the empty space. We can slide four adjacent (left, right, above, and below) tiles into the empty space. "
   ]
  },
  {
   "cell_type": "markdown",
   "id": "c69350e8",
   "metadata": {},
   "source": [
    "Approches to find the solution to 8- puzzle problem"
   ]
  },
  {
   "cell_type": "markdown",
   "id": "fffdb75e",
   "metadata": {},
   "source": [
    "1. BFS (Brute-Force)\n",
    " \n",
    "We can perform a Breadth-first search on the state space tree. This always finds a goal state nearest to the root. But no matter what the initial state is, the algorithm attempts the same sequence of moves like DFS."
   ]
  },
  {
   "cell_type": "markdown",
   "id": "ef06d89a",
   "metadata": {},
   "source": [
    "2.Branch and Bound"
   ]
  },
  {
   "cell_type": "markdown",
   "id": "4c4f7f62",
   "metadata": {},
   "source": [
    "The search for an answer node can often be speeded by using an “intelligent” ranking function, also called an approximate hauristic function or cost function to avoid searching in sub-trees that do not contain an answer node. It is similar to the backtracking technique but uses a BFS-like search."
   ]
  },
  {
   "cell_type": "markdown",
   "id": "4cac866b",
   "metadata": {},
   "source": [
    "There are basically three types of nodes involved in Branch and Bound \n",
    "1. Live node is a node that has been generated but whose children have not yet been generated. \n",
    "2. E-node is a live node whose children are currently being explored. In other words, an E-node is a node currently being expanded. \n",
    "3. Dead node is a generated node that is not to be expanded or explored any further. All children of a dead node have already been expanded."
   ]
  },
  {
   "cell_type": "markdown",
   "id": "35b40d52",
   "metadata": {},
   "source": [
    "Cost function: \n",
    "Each node X in the search tree is associated with a cost. The cost function is useful for determining the next E-node. The next E-node is the one with the least cost. The cost function is defined as \n",
    "\n",
    "   C(X) = g(X) + h(X) where\n",
    "   \n",
    "   g(X) = cost of reaching the current node \n",
    "          from the root\n",
    "          \n",
    "   h(X) = cost of reaching an answer node from X.\n",
    "   \n",
    "  The cost function can be replaced by a Hauristic function which helps to predict the next best route."
   ]
  },
  {
   "cell_type": "markdown",
   "id": "b22cbbdd",
   "metadata": {},
   "source": [
    "## Programs :"
   ]
  },
  {
   "cell_type": "markdown",
   "id": "06e77093",
   "metadata": {},
   "source": [
    "## Method 1"
   ]
  },
  {
   "cell_type": "code",
   "execution_count": 19,
   "id": "7f6e6e40",
   "metadata": {},
   "outputs": [
    {
     "name": "stdout",
     "output_type": "stream",
     "text": [
      "1 2 3 _ 4 6 7 5 8\n",
      "\n",
      "1 2 3 \n",
      "_ 4 6 \n",
      "7 5 8 \n",
      "_______\n",
      "\n",
      "1 2 3 \n",
      "4 _ 6 \n",
      "7 5 8 \n",
      "_______\n",
      "\n",
      "1 2 3 \n",
      "4 5 6 \n",
      "7 _ 8 \n",
      "_______\n",
      "\n",
      "1 2 3 \n",
      "4 5 6 \n",
      "7 8 _ \n",
      "_______\n"
     ]
    }
   ],
   "source": [
    "GoalMatrix=['1', '2', '3', '4', '5', '6', '7', '8', '_']\n",
    "def hVal(x):\n",
    "    x=[i==j for i,j in zip(x,GoalMatrix)].count(False)\n",
    "    return x\n",
    "def printBox(a):\n",
    "    for i,val in enumerate(a):\n",
    "        if( (i)%3 == 0):print()\n",
    "        print(val,end=\" \")\n",
    "    print('\\n_______')\n",
    "givenMatrix=input().split()\n",
    "tempMat=givenMatrix.copy()\n",
    "while(hVal(tempMat)):\n",
    "    printBox(tempMat)\n",
    "    ind=tempMat.index('_')\n",
    "    temparray=tempMat.copy()\n",
    "    swapIndex=-1\n",
    "    #checking For Baranches\n",
    "    if ind == 4:#Contains 4 Branches\n",
    "        hvl=[]\n",
    "        sam=[]\n",
    "        for i in [1,3,5,7]:\n",
    "            temp=temparray.copy()\n",
    "            temp[ind],temp[i]=temp[i],temp[ind]\n",
    "            sam.append(temp)\n",
    "            hvl.append(hVal(temp))\n",
    "        #updating the tempMatrix using hurestic Value\n",
    "        tempMat=sam[hvl.index(min(hvl))].copy()\n",
    "        \n",
    "    elif(ind in [0,2,6,8]):#Contains 3 Branches\n",
    "        x,y=0,0\n",
    "        for i in [0,2,6,8]:\n",
    "            if not i == ind:continue\n",
    "            if i==0:x,y=1,3\n",
    "            elif i==2:x,y=1,5\n",
    "            elif i==6:x,y=3,7\n",
    "            elif i==8:x,y=7,5\n",
    "            hvl=[]\n",
    "            temp=temparray.copy()\n",
    "            temp[ind],temp[x]=temp[x],temp[ind]\n",
    "            hvl.append(hVal(temp))\n",
    "            #Checking another posiibility\n",
    "            temp1=temparray.copy()\n",
    "            temp1[ind],temp1[y]=temp1[y],temp1[ind]\n",
    "            hvl.append(hVal(temp1))\n",
    "            if( hvl[0] < hvl[1] ):\n",
    "                tempMat=temp.copy()\n",
    "            else:\n",
    "                tempMat=temp1.copy()\n",
    "            \n",
    "    elif ind in [1,3,5,7]:\n",
    "        x,y,z=0,0,0\n",
    "        for i in [1,3,5,7]:\n",
    "            if not i == ind:continue\n",
    "            if   i==1:x,y,z=0,2,4\n",
    "            elif i==3:x,y,z=0,4,6\n",
    "            elif i==5:x,y,z=2,4,8\n",
    "            elif i==7:x,y,z=4,6,8\n",
    "            hvl=[]\n",
    "            sam=[]\n",
    "            temp=temparray.copy()\n",
    "            temp[x],temp[ind]=temp[ind],temp[x]\n",
    "            sam.append(temp)\n",
    "            hvl.append(hVal(temp))\n",
    "            #Checking another posiibility\n",
    "            temp1=temparray.copy()\n",
    "            temp1[y],temp1[ind]=temp1[ind],temp1[y]\n",
    "            sam.append(temp1)\n",
    "            hvl.append(hVal(temp1))\n",
    "            #Checking another posiibility\n",
    "            temp2=temparray.copy()\n",
    "            temp2[z],temp2[ind]=temp2[ind],temp2[z]\n",
    "            sam.append(temp2)\n",
    "            hvl.append(hVal(temp2))\n",
    "            tempMat=sam[hvl.index(min(hvl))].copy()#updating the tempMatrix using hurestic Value\n",
    "printBox(tempMat)"
   ]
  },
  {
   "cell_type": "markdown",
   "id": "7c912aa1",
   "metadata": {},
   "source": [
    "## Method 2"
   ]
  },
  {
   "cell_type": "code",
   "execution_count": 18,
   "id": "4088dc34",
   "metadata": {},
   "outputs": [
    {
     "name": "stdout",
     "output_type": "stream",
     "text": [
      "1 2 3 _ 4 6 7 5 8\n",
      "1 2 3\n",
      "_ 4 6\n",
      "7 5 8\n",
      "======\n",
      "1 2 3\n",
      "4 _ 6\n",
      "7 5 8\n",
      "======\n",
      "1 2 3\n",
      "4 5 6\n",
      "7 _ 8\n",
      "======\n",
      "1 2 3\n",
      "4 5 6\n",
      "7 8 _\n",
      "Successfully Reached Goal state with above steps\n"
     ]
    }
   ],
   "source": [
    "gstate=list(range(1,9))\n",
    "gstate.append(\"_\")\n",
    "\n",
    "\n",
    "#ist=[1,2,3,\"_\",4,6,7,5,8]\n",
    "\n",
    "ist=input().split()\n",
    "for i in range(len(ist)):\n",
    "    if ist[i]==\"_\":\n",
    "        continue\n",
    "    ist[i]=int(ist[i])\n",
    "    \n",
    "\n",
    "\n",
    "def printm(q):\n",
    "    print(q[0],q[1],q[2])\n",
    "    print(q[3],q[4],q[5])\n",
    "    print(q[6],q[7],q[8])\n",
    "\n",
    "\n",
    "def hauristic(l,gstate):\n",
    "    h=0\n",
    "    for i in range(len(l)-1):\n",
    "        if l[i]!=gstate[i]:\n",
    "            h+=1\n",
    "    return h\n",
    "\n",
    "\n",
    "def move_down(i,l):\n",
    "    l[i],l[i+3]=l[i+3],l[i]\n",
    "    return hauristic(l,gstate),l\n",
    "    \n",
    "def move_left(i,l):\n",
    "    l[i],l[i-1]=l[i-1],l[i]\n",
    "    return hauristic(l,gstate),l\n",
    "    \n",
    "def move_top(i,l):\n",
    "    l[i],l[i-3]=l[i-3],l[i]\n",
    "    return hauristic(l,gstate),l\n",
    "    \n",
    "def move_right(i,l):\n",
    "    l[i],l[i+1]=l[i+1],l[i]\n",
    "    return hauristic(l,gstate),l\n",
    "\n",
    "\n",
    "\n",
    "\n",
    "\n",
    "printm(ist)\n",
    "h=1000\n",
    "while h!=0:\n",
    "    print(\"======\")\n",
    "    for i in range(len(ist)):\n",
    "        if ist[i] ==\"_\":\n",
    "            break\n",
    "    h1,h2,h3,h4=1000,1000,1000,1000\n",
    "    if (i+1)% 3==0:\n",
    "        pass\n",
    "    else:\n",
    "        istt=ist.copy()\n",
    "        h1,t1=move_right(i,istt)\n",
    "        \n",
    "    if i%3==0 or i==0:\n",
    "        pass\n",
    "    else:\n",
    "        istt=ist.copy()\n",
    "        h2,t2=move_left(i,istt)\n",
    "        \n",
    "    if i in [0,1,2]:\n",
    "        pass\n",
    "    else:\n",
    "        istt=ist.copy()\n",
    "        h3,t3=move_top(i,istt)\n",
    "        \n",
    "    if (i+1)==7 or (i+1)==8 or (i+1)==9:\n",
    "        pass\n",
    "    else:\n",
    "        istt=ist.copy()\n",
    "        h4,t4=move_down(i,istt)\n",
    "        \n",
    "    x=min(min(h1,h2),min(h3,h4))\n",
    "    if x==h1:\n",
    "        h=h1\n",
    "        ist=t1\n",
    "        printm(ist)\n",
    "        \n",
    "    elif x==h2:\n",
    "        h=h2\n",
    "        ist=t2\n",
    "        printm(ist)\n",
    "    elif x==h3:\n",
    "        h=h3\n",
    "        ist=t3\n",
    "        printm(ist)\n",
    "    elif x==h4:\n",
    "        h=h4\n",
    "        ist=t4\n",
    "        printm(ist)\n",
    "    else:\n",
    "        break\n",
    "    if h==0:\n",
    "        print(\"Successfully Reached Goal state with above steps\")"
   ]
  },
  {
   "cell_type": "markdown",
   "id": "12583769",
   "metadata": {},
   "source": [
    "# Experiment - 5"
   ]
  },
  {
   "cell_type": "markdown",
   "id": "1845a6b9",
   "metadata": {},
   "source": [
    "# Write a python program to implement AI chatbot application."
   ]
  },
  {
   "cell_type": "markdown",
   "id": "9de50f91",
   "metadata": {},
   "source": [
    "## Aim :"
   ]
  },
  {
   "cell_type": "markdown",
   "id": "438f3aeb",
   "metadata": {},
   "source": [
    "To write a python program to implement AI chatbot application."
   ]
  },
  {
   "cell_type": "markdown",
   "id": "d30926ce",
   "metadata": {},
   "source": [
    "## Description:"
   ]
  },
  {
   "cell_type": "markdown",
   "id": "ac4d3a4f",
   "metadata": {},
   "source": [
    "A chatbot is a computer program that simulates human conversation through voice commands or text chats or both. Chatbot, short for chatterbot, is an artificial intelligence (AI) feature that can be embedded and used through any major messaging application.\n",
    "\n",
    " There are a number of synonyms for chatbot, including \"talkbot,\" \"bot,\" \"IM bot,\" \"interactive agent\" or \"artificial conversation entity.\"\n",
    " \n",
    "Chatbots, also called chatterbots, is a form of artificial intelligence (AI) used in messaging apps.\n",
    "\n",
    "This tool helps add convenience for customers—they are automated programs that interact with customers like a human would and cost little to nothing to engage with.\n",
    "\n",
    "Key examples are chatbots used by businesses in Facebook Messenger, or as virtual assistants, such as Amazon's Alexa.\n",
    "\n",
    "Chatbots tend to operate in one of two ways—either via machine learning or with set guidelines. However, due to advancements in AI technology, chatbots using set guidelines are becoming a historical footnote.\n",
    "\n",
    "Types of Chatbots\n",
    "\n",
    "1.Set Guidelines Chatbot\n",
    "\n",
    "A chatbot that functions with a set of guidelines in place is limited in its conversation. It can only respond to a set number of requests and vocabulary and is only as intelligent as its programming code.An example of a limited bot is an automated banking bot that asks the caller some questions to understand what the caller wants to do.\n",
    " \n",
    "2.Machine Learning Chatbot\n",
    "\n",
    "A chatbot that functions through machine learning has an artificial neural network inspired by the neural nodes of the human brain. The bot is programmed to self-learn as it is introduced to new dialogues and words. In effect, as a chatbot receives new voice or textual dialogues, the number of inquiries that it can reply to and the accuracy of each response it gives increases.\n"
   ]
  },
  {
   "cell_type": "markdown",
   "id": "b99f42d0",
   "metadata": {},
   "source": [
    "## Program :"
   ]
  },
  {
   "cell_type": "code",
   "execution_count": 13,
   "id": "3946f277",
   "metadata": {},
   "outputs": [
    {
     "name": "stdout",
     "output_type": "stream",
     "text": [
      "Simple Question and Answers Chat Bot\n",
      "--------------------------------------------------\n",
      "You may ask any of the following questions..!\n",
      "Hii\n",
      "How are you?\n",
      "What is your name?\n",
      "What you can do?\n",
      "Quit\n",
      "--------------------------------------------------\n",
      "Enter Question hii\n",
      "Hello\n",
      "Enter Question what is your name?\n",
      "Iam Alexa! the simple Chat Bot\n",
      "Enter your name Rajesh\n",
      "Nice to meet you  Rajesh\n",
      "Enter Question Do you know swarnandhra?\n",
      "Sorry ! I cant understand\n",
      "Enter Question are you a human?\n",
      "Iam just a computer program\n",
      "Enter Question what you can do?\n",
      "I can answer your simple Queries\n",
      "Enter Question quit\n"
     ]
    }
   ],
   "source": [
    "print(\"Simple Question and Answers Chat Bot\")\n",
    "print(\"-\"*50)\n",
    "print(\"You may ask any of the following questions..!\")\n",
    "print(\"Hii\")\n",
    "print(\"How are you?\")\n",
    "print(\"What is your name?\")\n",
    "print(\"What you can do?\")\n",
    "print(\"Quit\")\n",
    "print(\"-\"*50)\n",
    "while 1:\n",
    "    q=input(\"Enter Question \")\n",
    "    q=q.lower()\n",
    "    if q in ['hii','hello']:\n",
    "        print(\"Hello\")\n",
    "    elif q in ['how are you?','how do you do?']:\n",
    "        print(\"Iam Fine\")\n",
    "    elif q in ['what is your name?']:\n",
    "        print(\"Iam Alexa! the simple Chat Bot\")\n",
    "        name=input(\"Enter your name \")\n",
    "        print(\"Nice to meet you \",name)\n",
    "    elif q in ['are you a human?','where do you live?']:\n",
    "        print('Iam just a computer program')\n",
    "    elif q in ['what you can do?']:\n",
    "        print(\"I can answer your simple Queries\")\n",
    "    elif q in ['quit']:\n",
    "        break\n",
    "    else:\n",
    "        print(\"Sorry ! I cant understand\")"
   ]
  },
  {
   "cell_type": "markdown",
   "id": "4f436882",
   "metadata": {},
   "source": [
    "# Experiment - 6"
   ]
  },
  {
   "cell_type": "markdown",
   "id": "f52f73a8",
   "metadata": {},
   "source": [
    "# Write a python program to implement Depth First Search algorithm."
   ]
  },
  {
   "cell_type": "markdown",
   "id": "e701ad7d",
   "metadata": {},
   "source": [
    "## Aim :"
   ]
  },
  {
   "cell_type": "markdown",
   "id": "a0465415",
   "metadata": {},
   "source": [
    "To write a python program to implement Depth First Search algorithm."
   ]
  },
  {
   "cell_type": "markdown",
   "id": "49d40c2c",
   "metadata": {},
   "source": [
    "## Description: "
   ]
  },
  {
   "cell_type": "markdown",
   "id": "c5ac3062",
   "metadata": {},
   "source": [
    "A standard DFS implementation puts each vertex of the graph into one of two categories:\n",
    "\n",
    "1.Visited\n",
    "\n",
    "2.Not Visited"
   ]
  },
  {
   "cell_type": "markdown",
   "id": "27e38c57",
   "metadata": {},
   "source": [
    "The purpose of the algorithm is to mark each vertex as visited while avoiding cycles.\n",
    "\n",
    "The DFS algorithm works as follows:"
   ]
  },
  {
   "cell_type": "markdown",
   "id": "b50c6e37",
   "metadata": {},
   "source": [
    "1.Start by putting any one of the graph's vertices on top of a stack.\n",
    "\n",
    "2.Take the top item of the stack and add it to the visited list.\n",
    "\n",
    "3.Create a list of that vertex's adjacent nodes. Add the ones which aren't in the visited list to the top of the stack.\n",
    "\n",
    "4.Keep repeating steps 2 and 3 until the stack is empty."
   ]
  },
  {
   "cell_type": "markdown",
   "id": "86b9a4b7",
   "metadata": {},
   "source": [
    "## Program :"
   ]
  },
  {
   "cell_type": "code",
   "execution_count": 4,
   "id": "3c239dd5",
   "metadata": {},
   "outputs": [
    {
     "name": "stdout",
     "output_type": "stream",
     "text": [
      "Following is Depth First Traversal\n",
      "0 3 2 1 4 "
     ]
    }
   ],
   "source": [
    "# An Iterative Python program to do DFS traversal from\n",
    "# a given source vertex. DFS(int s) traverses vertices\n",
    "# reachable from s.\n",
    "\n",
    "# This class represents a directed graph using adjacency\n",
    "# list representation\n",
    "class Graph:\n",
    "    def __init__(self,V): # Constructor\n",
    "        self.V = V\t # No. of vertices\n",
    "        self.adj = [[] for i in range(V)] # adjacency lists\n",
    "\n",
    "    def addEdge(self,v, w):\t # to add an edge to graph\n",
    "        self.adj[v].append(w) # Add w to v’s list.\n",
    "\n",
    "\n",
    "# prints all not yet visited vertices reachable from s\n",
    "    def DFS(self,s):\n",
    "        # prints all vertices in DFS manner from a given source.\n",
    "        # Initially mark all vertices as not visited\n",
    "        visited = [False for i in range(self.V)]\n",
    "\n",
    "        # Create a stack for DFS\n",
    "        stack = []\n",
    "\n",
    "        # Push the current source node.\n",
    "        stack.append(s)\n",
    "\n",
    "        while (len(stack)):\n",
    "            # Pop a vertex from stack and print it\n",
    "            s = stack[-1]\n",
    "            stack.pop()\n",
    "\n",
    "            # Stack may contain same vertex twice. So\n",
    "            # we need to print the popped item only\n",
    "            # if it is not visited.\n",
    "            if (not visited[s]):\n",
    "                print(s,end=' ')\n",
    "                visited[s] = True\n",
    "\n",
    "            # Get all adjacent vertices of the popped vertex s\n",
    "            # If a adjacent has not been visited, then push it\n",
    "            # to the stack.\n",
    "            for node in self.adj[s]:\n",
    "                if (not visited[node]):\n",
    "                    stack.append(node)\n",
    "\n",
    "\n",
    "\n",
    "# Driver program to test methods of graph class\n",
    "\n",
    "g = Graph(5); # Total 5 vertices in graph\n",
    "g.addEdge(1, 0);\n",
    "g.addEdge(0, 2);\n",
    "g.addEdge(2, 1);\n",
    "g.addEdge(0, 3);\n",
    "g.addEdge(1, 4);\n",
    "\n",
    "print(\"Following is Depth First Traversal\")\n",
    "g.DFS(0)"
   ]
  },
  {
   "cell_type": "markdown",
   "id": "f879ea4f",
   "metadata": {},
   "source": [
    "# Experiment - 7"
   ]
  },
  {
   "cell_type": "markdown",
   "id": "d2b58814",
   "metadata": {},
   "source": [
    "# Write a python program to implement Breadth First Search algorithm."
   ]
  },
  {
   "cell_type": "markdown",
   "id": "46ca3a8a",
   "metadata": {},
   "source": [
    "## Aim :"
   ]
  },
  {
   "cell_type": "markdown",
   "id": "3f9caba3",
   "metadata": {},
   "source": [
    "To write a python program to implement Breadth First Search algorithm."
   ]
  },
  {
   "cell_type": "markdown",
   "id": "75501026",
   "metadata": {},
   "source": [
    "## Description:"
   ]
  },
  {
   "cell_type": "markdown",
   "id": "94e291fb",
   "metadata": {},
   "source": [
    "A standard BFS implementation puts each vertex of the graph into one of two categories:\n",
    "\n",
    "1.Visited\n",
    "\n",
    "2.Not Visited"
   ]
  },
  {
   "cell_type": "markdown",
   "id": "8b736c6b",
   "metadata": {},
   "source": [
    "The purpose of the algorithm is to mark each vertex as visited while avoiding cycles.\n",
    "\n",
    "The algorithm works as follows:\n",
    "\n",
    "1.Start by putting any one of the graph's vertices at the back of a queue.\n",
    "\n",
    "2.Take the front item of the queue and add it to the visited list.\n",
    "\n",
    "3.Create a list of that vertex's adjacent nodes. Add the ones which aren't in the visited list to the back of the queue.\n",
    "\n",
    "4.Keep repeating steps 2 and 3 until the queue is empty."
   ]
  },
  {
   "cell_type": "markdown",
   "id": "2357f829",
   "metadata": {},
   "source": [
    "## Program :"
   ]
  },
  {
   "cell_type": "code",
   "execution_count": 3,
   "id": "d72ee489",
   "metadata": {},
   "outputs": [
    {
     "name": "stdout",
     "output_type": "stream",
     "text": [
      "Following is Breadth First Traversal (starting from vertex 2)\n",
      "2 0 3 1 "
     ]
    }
   ],
   "source": [
    "# Python3 Program to print BFS traversal\n",
    "# from a given source vertex. BFS(int s)\n",
    "# traverses vertices reachable from s.\n",
    "from collections import defaultdict\n",
    "\n",
    "# This class represents a directed graph\n",
    "# using adjacency list representation\n",
    "class Graph:\n",
    "\n",
    "    # Constructor\n",
    "    def __init__(self):\n",
    "\n",
    "# default dictionary to store graph\n",
    "        self.graph = defaultdict(list)\n",
    "\n",
    "# function to add an edge to graph\n",
    "    def addEdge(self,u,v):\n",
    "        self.graph[u].append(v)\n",
    "\n",
    "    # Function to print a BFS of graph\n",
    "    def BFS(self, s):\n",
    "\n",
    "# Mark all the vertices as not visited\n",
    "        visited = [False] * (len(self.graph))\n",
    "\n",
    "        # Create a queue for BFS\n",
    "        queue = []\n",
    "\n",
    "        # Mark the source node as\n",
    "        # visited and enqueue it\n",
    "        queue.append(s)\n",
    "        visited[s] = True\n",
    "\n",
    "        while queue:\n",
    "\n",
    "# Dequeue a vertex from\n",
    "# queue and print it\n",
    "            s = queue.pop(0)\n",
    "            print (s, end = \" \")\n",
    "\n",
    "# Get all adjacent vertices of the\n",
    "# dequeued vertex s. If a adjacent\n",
    "# has not been visited, then mark it\n",
    "# visited and enqueue it\n",
    "            for i in self.graph[s]:\n",
    "                if visited[i] == False:\n",
    "                    queue.append(i)\n",
    "                    visited[i] = True\n",
    "\n",
    "# Driver code\n",
    "\n",
    "# Create a graph given in\n",
    "# the above diagram\n",
    "g = Graph()\n",
    "g.addEdge(0, 1)\n",
    "g.addEdge(0, 2)\n",
    "g.addEdge(1, 2)\n",
    "g.addEdge(2, 0)\n",
    "g.addEdge(2, 3)\n",
    "g.addEdge(3, 3)\n",
    "\n",
    "#LET A RANDOM VERTEX BE 2\n",
    "\n",
    "print (\"Following is Breadth First Traversal\"\n",
    "                \" (starting from vertex 2)\")\n",
    "g.BFS(2)\n"
   ]
  },
  {
   "cell_type": "markdown",
   "id": "c3bf1cea",
   "metadata": {},
   "source": [
    "# Experiment - 8"
   ]
  },
  {
   "cell_type": "markdown",
   "id": "69fcf782",
   "metadata": {},
   "source": [
    "# Write a python program to implement A* Search algorithm."
   ]
  },
  {
   "cell_type": "markdown",
   "id": "2c437158",
   "metadata": {},
   "source": [
    "## Aim :"
   ]
  },
  {
   "cell_type": "markdown",
   "id": "1f05e820",
   "metadata": {},
   "source": [
    "To write a python program to implement A* Search algorithm."
   ]
  },
  {
   "cell_type": "markdown",
   "id": "4e3f5e61",
   "metadata": {},
   "source": [
    "## Description:"
   ]
  },
  {
   "cell_type": "markdown",
   "id": "a11d4e9d",
   "metadata": {},
   "source": [
    "It is a searching algorithm that is used to find the shortest path between an initial and a final point.\n",
    "\n",
    "It is a handy algorithm that is often used for map traversal to find the shortest path to be taken. A* was initially designed as a graph traversal problem, to help build a robot that can find its own course. It still remains a widely popular algorithm for graph traversal.\n",
    "\n",
    "It searches for shorter paths first, thus making it an optimal and complete algorithm. An optimal algorithm will find the least cost outcome for a problem, while a complete algorithm finds all the possible outcomes of a problem.\n",
    "\n"
   ]
  },
  {
   "cell_type": "markdown",
   "id": "e1498149",
   "metadata": {},
   "source": [
    "Initially, the Algorithm calculates the cost to all its immediate neighboring nodes,n, and chooses the one incurring the least cost. This process repeats until no new nodes can be chosen and all paths have been traversed. Then, you should consider the best path among them. If f(n) represents the final cost, then it can be denoted as :\n",
    "\n",
    "f(n) = g(n) + h(n), where :\n",
    "\n",
    "g(n) = cost of traversing from one node to another. This will vary from node to node\n",
    "\n",
    "h(n) = heuristic approximation of the node's value. This is not a real value but an approximation cost"
   ]
  },
  {
   "cell_type": "markdown",
   "id": "e566ab9e",
   "metadata": {},
   "source": [
    "## Program :"
   ]
  },
  {
   "cell_type": "code",
   "execution_count": 5,
   "id": "93ba2c7a",
   "metadata": {},
   "outputs": [
    {
     "name": "stdout",
     "output_type": "stream",
     "text": [
      "Path found: ['A', 'F', 'G', 'I', 'J']\n"
     ]
    },
    {
     "data": {
      "text/plain": [
       "['A', 'F', 'G', 'I', 'J']"
      ]
     },
     "execution_count": 5,
     "metadata": {},
     "output_type": "execute_result"
    }
   ],
   "source": [
    "def aStarAlgo(start_node, stop_node):\n",
    "    open_set = set(start_node)\n",
    "    closed_set = set()\n",
    "    g = {}               #store distance from starting node\n",
    "    parents = {}         # parents contains an adjacency map of all nodes\n",
    "    #distance of starting node from itself is zero\n",
    "    g[start_node] = 0\n",
    "    #start_node is root node i.e it has no parent nodes\n",
    "    #so start_node is set to its own parent node\n",
    "    parents[start_node] = start_node\n",
    "    while len(open_set) > 0:\n",
    "        n = None\n",
    "        #node with lowest f() is found\n",
    "        for v in open_set:\n",
    "            if n == None or g[v] + heuristic(v) < g[n] + heuristic(n):\n",
    "                n = v\n",
    "        if n == stop_node or Graph_nodes[n] == None:\n",
    "            pass\n",
    "        else:\n",
    "            for (m, weight) in get_neighbors(n):\n",
    "                #nodes 'm' not in first and last set are added to first\n",
    "                #n is set its parent\n",
    "                if m not in open_set and m not in closed_set:\n",
    "                    open_set.add(m)\n",
    "                    parents[m] = n\n",
    "                    g[m] = g[n] + weight\n",
    "                #for each node m,compare its distance from start i.e g(m) to the\n",
    "                #from start through n node\n",
    "                else:\n",
    "                    if g[m] > g[n] + weight:\n",
    "                        #update g(m)\n",
    "                        g[m] = g[n] + weight\n",
    "                        #change parent of m to n\n",
    "                        parents[m] = n\n",
    "                        #if m in closed set,remove and add to open\n",
    "                        if m in closed_set:\n",
    "                            closed_set.remove(m)\n",
    "                            open_set.add(m)\n",
    "        if n == None:\n",
    "            print('Path does not exist!')\n",
    "            return None\n",
    "        \n",
    "        # if the current node is the stop_node\n",
    "        # then we begin reconstructin the path from it to the start_node\n",
    "        if n == stop_node:\n",
    "            path = []\n",
    "            while parents[n] != n:\n",
    "                path.append(n)\n",
    "                n = parents[n]\n",
    "            path.append(start_node)\n",
    "            path.reverse()\n",
    "            print('Path found: {}'.format(path))\n",
    "            return path\n",
    "        # remove n from the open_list, and add it to closed_list\n",
    "        # because all of his neighbors were inspected\n",
    "        open_set.remove(n)\n",
    "        closed_set.add(n)\n",
    "    print('Path does not exist!')\n",
    "    return None\n",
    "\n",
    "#define fuction to return neighbor and its distance\n",
    "#from the passed node\n",
    "def get_neighbors(v):\n",
    "    if v in Graph_nodes:\n",
    "        return Graph_nodes[v]\n",
    "    else:\n",
    "        return None\n",
    "    \n",
    "#for simplicity we ll consider heuristic distances given\n",
    "#and this function returns heuristic distance for all nodes\n",
    "def heuristic(n):\n",
    "    H_dist = {\n",
    "        'A': 11,\n",
    "        'B': 6,\n",
    "        'C': 5,\n",
    "        'D': 7,\n",
    "        'E': 3,\n",
    "        'F': 6,\n",
    "        'G': 5,\n",
    "        'H': 3,\n",
    "        'I': 1,\n",
    "        'J': 0\n",
    "    }\n",
    "    return H_dist[n]\n",
    "\n",
    "#Describe your graph here\n",
    "Graph_nodes = {\n",
    "    'A': [('B', 6), ('F', 3)],\n",
    "    'B': [('A', 6), ('C', 3), ('D', 2)],\n",
    "    'C': [('B', 3), ('D', 1), ('E', 5)],\n",
    "    'D': [('B', 2), ('C', 1), ('E', 8)],\n",
    "    'E': [('C', 5), ('D', 8), ('I', 5), ('J', 5)],\n",
    "    'F': [('A', 3), ('G', 1), ('H', 7)],\n",
    "    'G': [('F', 1), ('I', 3)],\n",
    "    'H': [('F', 7), ('I', 2)],\n",
    "    'I': [('E', 5), ('G', 3), ('H', 2), ('J', 3)],\n",
    "}\n",
    "\n",
    "aStarAlgo('A', 'J')"
   ]
  },
  {
   "cell_type": "markdown",
   "id": "ad543c39",
   "metadata": {},
   "source": [
    "# Experiment - 9\n"
   ]
  },
  {
   "cell_type": "markdown",
   "id": "cb664f7d",
   "metadata": {},
   "source": [
    "# Write a python program to implement Towers of Hanoi problem."
   ]
  },
  {
   "cell_type": "markdown",
   "id": "4b338540",
   "metadata": {},
   "source": [
    "## Aim :"
   ]
  },
  {
   "cell_type": "markdown",
   "id": "04ce3405",
   "metadata": {},
   "source": [
    "To write a python program to implement Towers of Hanoi problem."
   ]
  },
  {
   "cell_type": "markdown",
   "id": "c0b83021",
   "metadata": {},
   "source": [
    "## Description:"
   ]
  },
  {
   "cell_type": "markdown",
   "id": "9e60b559",
   "metadata": {},
   "source": [
    "Tower of Hanoi is a mathematical puzzle where we have three rods and n disks. The objective of the puzzle is to move the entire stack to another rod, obeying the following simple rules: \n",
    "\n",
    "1.Only one disk can be moved at a time.\n",
    "\n",
    "2.Each move consists of taking the upper disk from one of the stacks and placing it on top of another stack i.e. a disk can only be moved if it is the uppermost disk on a stack.\n",
    "\n",
    "3.No disk may be placed on top of a smaller disk.\n",
    "\n",
    "Let rod 1 = 'A', rod 2 = 'B', rod 3 = 'C'.\n",
    "An example with 2 disks :\n",
    "\n",
    "Step 1 : Shift first disk from 'A' to 'B'.\n",
    "\n",
    "Step 2 : Shift second disk from 'A' to 'C'.\n",
    "\n",
    "Step 3 : Shift first disk from 'B' to 'C'."
   ]
  },
  {
   "cell_type": "markdown",
   "id": "59cc69a6",
   "metadata": {},
   "source": [
    "## Program :"
   ]
  },
  {
   "cell_type": "code",
   "execution_count": null,
   "id": "8eedf8a6",
   "metadata": {},
   "outputs": [],
   "source": []
  },
  {
   "cell_type": "markdown",
   "id": "f339b24e",
   "metadata": {},
   "source": [
    "# Experiment - 10"
   ]
  },
  {
   "cell_type": "markdown",
   "id": "52974ff0",
   "metadata": {},
   "source": [
    "# Write a python program to implement MDP concepts."
   ]
  },
  {
   "cell_type": "markdown",
   "id": "dacbc7cd",
   "metadata": {},
   "source": [
    "## Aim :"
   ]
  },
  {
   "cell_type": "markdown",
   "id": "2fe60ec9",
   "metadata": {},
   "source": [
    "To write a python program to implement MDP(Markov Decision Process) concepts."
   ]
  },
  {
   "cell_type": "markdown",
   "id": "265c5ab1",
   "metadata": {},
   "source": [
    "## Description:"
   ]
  },
  {
   "cell_type": "markdown",
   "id": "d352e167",
   "metadata": {},
   "source": [
    " In the problem, an agent is supposed to decide the best action to select based on his current state. When this step is repeated, the problem is known as a Markov Decision Process. \n",
    "\n",
    "A Markov Decision Process (MDP) model contains: \n",
    " \n",
    "\n",
    "A set of possible world states S.\n",
    "\n",
    "A set of Models.\n",
    "\n",
    "A set of possible actions A.\n",
    "\n",
    "A real-valued reward function R(s,a).\n",
    "\n",
    "\n",
    "A State is a set of tokens that represent every state that the agent can be in. \n",
    "\n",
    "\n",
    "A Model (sometimes called Transition Model) gives an action’s effect in a state. In particular, T(S, a, S’) defines a transition T where being in state S and taking an action ‘a’ takes us to state S’ (S and S’ may be the same). For stochastic actions (noisy, non-deterministic) we also define a probability P(S’|S,a) which represents the probability of reaching a state S’ if action ‘a’ is taken in state S. Note Markov property states that the effects of an action taken in a state depend only on that state and not on the prior history. \n",
    "\n",
    " \n",
    "\n",
    "An Action A is a set of all possible actions. A(s) defines the set of actions that can be taken being in state S. \n",
    "\n",
    " \n",
    "\n",
    "A Reward is a real-valued reward function. R(s) indicates the reward for simply being in the state S. R(S,a) indicates the reward for being in a state S and taking an action ‘a’. R(S,a,S’) indicates the reward for being in a state S, taking an action ‘a’ and ending up in a state S’. \n",
    "\n",
    " \n",
    "\n",
    "\n",
    "A Policy is a solution to the Markov Decision Process. A policy is a mapping from S to a. It indicates the action ‘a’ to be taken while in state S. A policy the solution of Markov Decision Process.\n",
    " "
   ]
  },
  {
   "cell_type": "markdown",
   "id": "acd4964f",
   "metadata": {},
   "source": [
    "## Program :"
   ]
  },
  {
   "cell_type": "code",
   "execution_count": null,
   "id": "d92d002c",
   "metadata": {},
   "outputs": [],
   "source": []
  },
  {
   "cell_type": "markdown",
   "id": "a4713465",
   "metadata": {},
   "source": [
    "# Experiment - 11"
   ]
  },
  {
   "cell_type": "markdown",
   "id": "0893ae14",
   "metadata": {},
   "source": [
    "# Write a python program to implement Reinforcement Learning examples."
   ]
  },
  {
   "cell_type": "markdown",
   "id": "35dca932",
   "metadata": {},
   "source": [
    "## Aim :"
   ]
  },
  {
   "cell_type": "markdown",
   "id": "adad29da",
   "metadata": {},
   "source": [
    "To write a python program to implement Reinforcement Learning examples."
   ]
  },
  {
   "cell_type": "markdown",
   "id": "823a2f44",
   "metadata": {},
   "source": [
    "## Description:"
   ]
  },
  {
   "cell_type": "markdown",
   "id": "80ceec98",
   "metadata": {},
   "source": [
    "Reinforcement learning is an area of Machine Learning. It is about taking suitable action to maximize reward in a particular situation. It is employed by various software and machines to find the best possible behavior or path it should take in a specific situation."
   ]
  },
  {
   "cell_type": "markdown",
   "id": "ad175060",
   "metadata": {},
   "source": [
    " Reinforcement learning differs from supervised learning in a way that in supervised learning the training data has the answer key with it so the model is trained with the correct answer itself whereas in reinforcement learning, there is no answer but the reinforcement agent decides what to do to perform the given task. In the absence of a training dataset, it is bound to learn from its experience. \n",
    "\n"
   ]
  },
  {
   "cell_type": "markdown",
   "id": "1b84e956",
   "metadata": {},
   "source": [
    "Main points in Reinforcement learning – \n",
    " \n",
    "\n",
    "Input: The input should be an initial state from which the model will start\n",
    "\n",
    "Output: There are many possible outputs as there are a variety of solutions to a particular problem\n",
    "\n",
    "Training: The training is based upon the input, The model will return a state and the user will decide to reward or punish the model based on its output.\n",
    "\n",
    "The model keeps continues to learn.\n",
    "\n",
    "The best solution is decided based on the maximum reward."
   ]
  },
  {
   "cell_type": "markdown",
   "id": "c721c224",
   "metadata": {},
   "source": [
    "## Program :"
   ]
  },
  {
   "cell_type": "code",
   "execution_count": null,
   "id": "72fa9b85",
   "metadata": {},
   "outputs": [],
   "source": []
  }
 ],
 "metadata": {
  "kernelspec": {
   "display_name": "Python 3 (ipykernel)",
   "language": "python",
   "name": "python3"
  },
  "language_info": {
   "codemirror_mode": {
    "name": "ipython",
    "version": 3
   },
   "file_extension": ".py",
   "mimetype": "text/x-python",
   "name": "python",
   "nbconvert_exporter": "python",
   "pygments_lexer": "ipython3",
   "version": "3.7.6"
  }
 },
 "nbformat": 4,
 "nbformat_minor": 5
}
